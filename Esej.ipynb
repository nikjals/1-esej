{
 "cells": [
  {
   "cell_type": "code",
   "execution_count": 176,
   "metadata": {},
   "outputs": [],
   "source": [
    "import numpy as np\n",
    "import pandas as pd\n",
    "import matplotlib.pyplot as plt\n",
    "import seaborn as sns\n",
    "from scipy import stats\n",
    "import scipy.stats as scs\n",
    "from statsmodels.stats.diagnostic import lilliefors\n",
    "%matplotlib inline"
   ]
  },
  {
   "cell_type": "markdown",
   "metadata": {},
   "source": [
    "## Podaci\n",
    "\n",
    "Cilj ovog eseja je usporediti neke podatke o razvijenosti zemalja svijeta i podatke o tome koliko novaca ulažu u obrazovanje.\n",
    "Zato ću promatrati sljedeće podatke za države svijeta: postotak gradskog stanovništva, prosječna duljina života, BDP per capita (pokazatelji razvijenosti zemlje), postotak BDPa koji se ulaže u obrazovanje, postotak potrošnje vlade na obrazovanje od ukupne potrošnje vlade, postotak potrošnje na obrazovanje koji se odnosi na plaće zaposlenika, zatim kratkoročna ulaganja i konačno dugoročna ulaganja u obrazovanje.\n",
    "\n",
    "Ovi pokazatelji potrošnje na obrazovanje imaju određena ograničena (vidjeti [ovdje](http://uis.unesco.org/en/glossary-term/expenditure-education-total-government-expenditure-all-sectors) i [ovdje](http://uis.unesco.org/en/glossary-term/government-expenditure-educational-institutions-gdp)): podaci se za neke zemlje odnose samo na Ministarstvo obrazovanja a ne na druga ministarstva koja mogu financirati obrazovanje, također u nekim zemljama je važan udio financiranja obrazovanja iz privatnog sektora pa zato udio financiranja iz javnog sektora može izgledati manji u odnosu na druge zemlje. Nadalje, zemlje s većim udjelom mladog stanovništva moraju trošiti više novca na obrazovanje u odnosu na zemlje koje imaju starije stanovništvo. Za potrebe ovog rada smatramo da su podaci najtočniji mogući jer dolaze od službenih organizacija, ali je važno to imati na umu prilikom interpretacije rezultata.\n",
    "\n",
    "Podatke uzimam sa stranice http://data.un.org/. Prvo učitavam podatke."
   ]
  },
  {
   "cell_type": "markdown",
   "metadata": {},
   "source": [
    "## Učitavanje podataka"
   ]
  },
  {
   "cell_type": "code",
   "execution_count": 177,
   "metadata": {},
   "outputs": [],
   "source": [
    "data_popc = pd.read_csv('Population Growth Rates in Urban areas and Capital cities.csv', encoding='utf-8')\n",
    "data_pop = pd.read_csv('Population Growth, Fertility and Mortality.csv', encoding='utf-8')\n",
    "#data_gen = pd.read_csv('Population, Surface Area and Density.csv', encoding='utf-8')\n",
    "data_edu = pd.read_csv('Public Expenditure on Education.csv', encoding='utf-8')\n",
    "data_gdp = pd.read_csv('GDP and GDP Per Capita.csv', encoding='utf-8')"
   ]
  },
  {
   "cell_type": "code",
   "execution_count": 178,
   "metadata": {},
   "outputs": [],
   "source": [
    "for podaci in (data_popc, data_pop, data_edu, data_gdp):\n",
    "    podaci.drop(podaci[podaci.Year < 2010].index, inplace=True)"
   ]
  },
  {
   "cell_type": "code",
   "execution_count": 179,
   "metadata": {},
   "outputs": [],
   "source": [
    "#print(data_popc['Series'].drop_duplicates().to_numpy())\n",
    "#print(data_pop['Series'].drop_duplicates().to_numpy())\n",
    "#print(data_edu['Series'].drop_duplicates().to_numpy())\n",
    "#print(data_gdp['Series'].drop_duplicates().to_numpy())"
   ]
  },
  {
   "cell_type": "code",
   "execution_count": 180,
   "metadata": {},
   "outputs": [],
   "source": [
    "data_popc.drop(data_popc[data_popc.Series != 'Urban population (percent)'].index, inplace=True)\n",
    "data_pop.drop(data_pop[data_pop.Series != 'Life expectancy at birth for both sexes (years)'].index, inplace = True)\n",
    "data_gdp.drop(data_gdp[data_gdp.Series != 'GDP per capita (US dollars)'].index, inplace=True)"
   ]
  },
  {
   "cell_type": "code",
   "execution_count": 181,
   "metadata": {},
   "outputs": [],
   "source": [
    "izbaci = data_edu.Series.isin(['Expenditure by level of education: primary (as % of government expenditure)',\n",
    "                               'Expenditure by level of education: secondary (as % of government expenditure)',\n",
    "                               'Expenditure by level of education: tertiary (as % of government expenditure)',\n",
    "                               'Expenditure by level of education: pre-primary (as % of government expenditure)'\n",
    "                              ])\n",
    "data_edu.drop(data_edu[izbaci].index, inplace=True)"
   ]
  },
  {
   "cell_type": "markdown",
   "metadata": {},
   "source": [
    "Pretvaram stupce s brojevima iz object u type float64."
   ]
  },
  {
   "cell_type": "code",
   "execution_count": 182,
   "metadata": {},
   "outputs": [],
   "source": [
    "data_popc['Value'] = data_popc['Value'].astype(str).astype(float)"
   ]
  },
  {
   "cell_type": "code",
   "execution_count": 183,
   "metadata": {},
   "outputs": [],
   "source": [
    "data_gdp['Value'] = data_gdp['Value'].astype(str).str.replace(',', '').astype(float)"
   ]
  },
  {
   "cell_type": "markdown",
   "metadata": {},
   "source": [
    "Sada grupiram vrijednosti po državama (to je stupac 'Unnamed: 1') i računam prosjek."
   ]
  },
  {
   "cell_type": "code",
   "execution_count": 184,
   "metadata": {},
   "outputs": [],
   "source": [
    "a = data_popc.groupby('Unnamed: 1')['Value'].mean()\n",
    "b = data_pop.groupby('Unnamed: 1')['Value'].mean()\n",
    "c = data_edu.groupby(['Unnamed: 1', 'Series']).mean()\n",
    "d = data_gdp.groupby('Unnamed: 1')['Value'].mean()"
   ]
  },
  {
   "cell_type": "code",
   "execution_count": 185,
   "metadata": {},
   "outputs": [],
   "source": [
    "c.reset_index(inplace=True)\n",
    "#c.Series.drop_duplicates().to_numpy()"
   ]
  },
  {
   "cell_type": "code",
   "execution_count": 186,
   "metadata": {},
   "outputs": [],
   "source": [
    "c.set_index('Unnamed: 1', inplace=True)"
   ]
  },
  {
   "cell_type": "code",
   "execution_count": 187,
   "metadata": {},
   "outputs": [
    {
     "data": {
      "text/html": [
       "<div>\n",
       "<style scoped>\n",
       "    .dataframe tbody tr th:only-of-type {\n",
       "        vertical-align: middle;\n",
       "    }\n",
       "\n",
       "    .dataframe tbody tr th {\n",
       "        vertical-align: top;\n",
       "    }\n",
       "\n",
       "    .dataframe thead th {\n",
       "        text-align: right;\n",
       "    }\n",
       "</style>\n",
       "<table border=\"1\" class=\"dataframe\">\n",
       "  <thead>\n",
       "    <tr style=\"text-align: right;\">\n",
       "      <th></th>\n",
       "      <th>Series</th>\n",
       "      <th>Region/Country/Area</th>\n",
       "      <th>Year</th>\n",
       "      <th>Value</th>\n",
       "    </tr>\n",
       "    <tr>\n",
       "      <th>Unnamed: 1</th>\n",
       "      <th></th>\n",
       "      <th></th>\n",
       "      <th></th>\n",
       "      <th></th>\n",
       "    </tr>\n",
       "  </thead>\n",
       "  <tbody>\n",
       "    <tr>\n",
       "      <th>Afghanistan</th>\n",
       "      <td>All staff compensation as % of total expenditu...</td>\n",
       "      <td>4.0</td>\n",
       "      <td>2012.5</td>\n",
       "      <td>71.912700</td>\n",
       "    </tr>\n",
       "    <tr>\n",
       "      <th>Afghanistan</th>\n",
       "      <td>Capital expenditure as % of total expenditure ...</td>\n",
       "      <td>4.0</td>\n",
       "      <td>2012.5</td>\n",
       "      <td>18.955650</td>\n",
       "    </tr>\n",
       "    <tr>\n",
       "      <th>Afghanistan</th>\n",
       "      <td>Current expenditure other than staff compensat...</td>\n",
       "      <td>4.0</td>\n",
       "      <td>2012.5</td>\n",
       "      <td>9.131700</td>\n",
       "    </tr>\n",
       "    <tr>\n",
       "      <th>Afghanistan</th>\n",
       "      <td>Public expenditure on education (% of GDP)</td>\n",
       "      <td>4.0</td>\n",
       "      <td>2014.0</td>\n",
       "      <td>3.543600</td>\n",
       "    </tr>\n",
       "    <tr>\n",
       "      <th>Afghanistan</th>\n",
       "      <td>Public expenditure on education (% of governme...</td>\n",
       "      <td>4.0</td>\n",
       "      <td>2014.0</td>\n",
       "      <td>15.079333</td>\n",
       "    </tr>\n",
       "  </tbody>\n",
       "</table>\n",
       "</div>"
      ],
      "text/plain": [
       "                                                        Series  \\\n",
       "Unnamed: 1                                                       \n",
       "Afghanistan  All staff compensation as % of total expenditu...   \n",
       "Afghanistan  Capital expenditure as % of total expenditure ...   \n",
       "Afghanistan  Current expenditure other than staff compensat...   \n",
       "Afghanistan         Public expenditure on education (% of GDP)   \n",
       "Afghanistan  Public expenditure on education (% of governme...   \n",
       "\n",
       "             Region/Country/Area    Year      Value  \n",
       "Unnamed: 1                                           \n",
       "Afghanistan                  4.0  2012.5  71.912700  \n",
       "Afghanistan                  4.0  2012.5  18.955650  \n",
       "Afghanistan                  4.0  2012.5   9.131700  \n",
       "Afghanistan                  4.0  2014.0   3.543600  \n",
       "Afghanistan                  4.0  2014.0  15.079333  "
      ]
     },
     "execution_count": 187,
     "metadata": {},
     "output_type": "execute_result"
    }
   ],
   "source": [
    "c.head()"
   ]
  },
  {
   "cell_type": "markdown",
   "metadata": {},
   "source": [
    "U riječniku su svi podaci s kojima radim, njihova kratka imena za lakše korištenje i duga za ispise."
   ]
  },
  {
   "cell_type": "code",
   "execution_count": 188,
   "metadata": {},
   "outputs": [],
   "source": [
    "stupci = {'Urban (%)' : 'Urban population (percent)',\n",
    "          'Life expectancy' :'Life expectancy at birth for both sexes (years)',\n",
    "          'GDP per capita' : 'GDP per capita (US dollars)',\n",
    "          'Exp on edu (% of GDP)' : 'Public expenditure on education (% of GDP)',\n",
    "          'Exp on edu (% of gov exp)' : 'Public expenditure on education (% of government expenditure)',\n",
    "          'Staff (% of total exp)' : 'All staff compensation as % of total expenditure in public institutions (%)',\n",
    "          'Current exp (% of total exp)' : 'Current expenditure other than staff compensation\\n as % of total expenditure in public institutions (%)',\n",
    "          'Capital exp (% of total exp)' : 'Capital expenditure as % of total expenditure\\n in public institutions (%)'\n",
    "         }"
   ]
  },
  {
   "cell_type": "markdown",
   "metadata": {},
   "source": [
    "Konačno sve podatke unosim u DataFrame:"
   ]
  },
  {
   "cell_type": "code",
   "execution_count": 189,
   "metadata": {},
   "outputs": [],
   "source": [
    "data = pd.DataFrame({'Urban (%)' : a,\n",
    "              'Life expectancy': b,\n",
    "              'GDP per capita' : d,\n",
    "              'Exp on edu (% of GDP)' : c[c.Series=='Public expenditure on education (% of GDP)']['Value'],\n",
    "              'Exp on edu (% of gov exp)' : c[c.Series=='Public expenditure on education (% of government expenditure)']['Value'],\n",
    "              'Staff (% of total exp)' : c[c.Series=='All staff compensation as % of total expenditure in public institutions (%)']['Value'],\n",
    "              'Current exp (% of total exp)' : c[c.Series=='Current expenditure other than staff compensation as % of total expenditure in public institutions (%)']['Value'],\n",
    "              'Capital exp (% of total exp)' : c[c.Series=='Capital expenditure as % of total expenditure in public institutions (%)']['Value']            \n",
    "             })"
   ]
  },
  {
   "cell_type": "code",
   "execution_count": 190,
   "metadata": {},
   "outputs": [
    {
     "data": {
      "text/html": [
       "<div>\n",
       "<style scoped>\n",
       "    .dataframe tbody tr th:only-of-type {\n",
       "        vertical-align: middle;\n",
       "    }\n",
       "\n",
       "    .dataframe tbody tr th {\n",
       "        vertical-align: top;\n",
       "    }\n",
       "\n",
       "    .dataframe thead th {\n",
       "        text-align: right;\n",
       "    }\n",
       "</style>\n",
       "<table border=\"1\" class=\"dataframe\">\n",
       "  <thead>\n",
       "    <tr style=\"text-align: right;\">\n",
       "      <th></th>\n",
       "      <th>Urban (%)</th>\n",
       "      <th>Life expectancy</th>\n",
       "      <th>GDP per capita</th>\n",
       "      <th>Exp on edu (% of GDP)</th>\n",
       "      <th>Exp on edu (% of gov exp)</th>\n",
       "      <th>Staff (% of total exp)</th>\n",
       "      <th>Current exp (% of total exp)</th>\n",
       "      <th>Capital exp (% of total exp)</th>\n",
       "    </tr>\n",
       "  </thead>\n",
       "  <tbody>\n",
       "    <tr>\n",
       "      <th>Afghanistan</th>\n",
       "      <td>24.666667</td>\n",
       "      <td>60.9765</td>\n",
       "      <td>593.00</td>\n",
       "      <td>3.5436</td>\n",
       "      <td>15.079333</td>\n",
       "      <td>71.9127</td>\n",
       "      <td>9.1317</td>\n",
       "      <td>18.95565</td>\n",
       "    </tr>\n",
       "    <tr>\n",
       "      <th>Albania</th>\n",
       "      <td>56.633333</td>\n",
       "      <td>76.5630</td>\n",
       "      <td>4115.50</td>\n",
       "      <td>3.6963</td>\n",
       "      <td>12.457350</td>\n",
       "      <td>76.0960</td>\n",
       "      <td>15.6955</td>\n",
       "      <td>8.20850</td>\n",
       "    </tr>\n",
       "    <tr>\n",
       "      <th>Algeria</th>\n",
       "      <td>70.300000</td>\n",
       "      <td>74.8410</td>\n",
       "      <td>4156.00</td>\n",
       "      <td>NaN</td>\n",
       "      <td>NaN</td>\n",
       "      <td>NaN</td>\n",
       "      <td>NaN</td>\n",
       "      <td>NaN</td>\n",
       "    </tr>\n",
       "    <tr>\n",
       "      <th>American Samoa</th>\n",
       "      <td>87.333333</td>\n",
       "      <td>NaN</td>\n",
       "      <td>NaN</td>\n",
       "      <td>NaN</td>\n",
       "      <td>NaN</td>\n",
       "      <td>NaN</td>\n",
       "      <td>NaN</td>\n",
       "      <td>NaN</td>\n",
       "    </tr>\n",
       "    <tr>\n",
       "      <th>Andorra</th>\n",
       "      <td>88.400000</td>\n",
       "      <td>NaN</td>\n",
       "      <td>38039.25</td>\n",
       "      <td>3.1265</td>\n",
       "      <td>NaN</td>\n",
       "      <td>36.0915</td>\n",
       "      <td>47.3752</td>\n",
       "      <td>1.20650</td>\n",
       "    </tr>\n",
       "  </tbody>\n",
       "</table>\n",
       "</div>"
      ],
      "text/plain": [
       "                Urban (%)  Life expectancy  GDP per capita  \\\n",
       "Afghanistan     24.666667          60.9765          593.00   \n",
       "Albania         56.633333          76.5630         4115.50   \n",
       "Algeria         70.300000          74.8410         4156.00   \n",
       "American Samoa  87.333333              NaN             NaN   \n",
       "Andorra         88.400000              NaN        38039.25   \n",
       "\n",
       "                Exp on edu (% of GDP)  Exp on edu (% of gov exp)  \\\n",
       "Afghanistan                    3.5436                  15.079333   \n",
       "Albania                        3.6963                  12.457350   \n",
       "Algeria                           NaN                        NaN   \n",
       "American Samoa                    NaN                        NaN   \n",
       "Andorra                        3.1265                        NaN   \n",
       "\n",
       "                Staff (% of total exp)  Current exp (% of total exp)  \\\n",
       "Afghanistan                    71.9127                        9.1317   \n",
       "Albania                        76.0960                       15.6955   \n",
       "Algeria                            NaN                           NaN   \n",
       "American Samoa                     NaN                           NaN   \n",
       "Andorra                        36.0915                       47.3752   \n",
       "\n",
       "                Capital exp (% of total exp)  \n",
       "Afghanistan                         18.95565  \n",
       "Albania                              8.20850  \n",
       "Algeria                                  NaN  \n",
       "American Samoa                           NaN  \n",
       "Andorra                              1.20650  "
      ]
     },
     "execution_count": 190,
     "metadata": {},
     "output_type": "execute_result"
    }
   ],
   "source": [
    "data.head()"
   ]
  },
  {
   "cell_type": "code",
   "execution_count": 191,
   "metadata": {},
   "outputs": [],
   "source": [
    "data.dropna(inplace=True)"
   ]
  },
  {
   "cell_type": "markdown",
   "metadata": {},
   "source": [
    "Pogledajmo koje sve države imamo."
   ]
  },
  {
   "cell_type": "code",
   "execution_count": 192,
   "metadata": {},
   "outputs": [
    {
     "data": {
      "text/plain": [
       "array(['Afghanistan', 'Albania', 'Argentina', 'Armenia', 'Australia',\n",
       "       'Austria', 'Azerbaijan', 'Bahrain', 'Bangladesh', 'Barbados',\n",
       "       'Belarus', 'Belgium', 'Benin', 'Bhutan',\n",
       "       'Bolivia (Plurin. State of)', 'Brazil', 'Brunei Darussalam',\n",
       "       'Bulgaria', 'Burundi', 'Cabo Verde', 'Cambodia', 'Cameroon',\n",
       "       'Canada', 'Chad', 'Colombia', 'Croatia', 'Cyprus', 'Czechia',\n",
       "       'Côte d’Ivoire', 'Dem. Rep. of the Congo', 'Denmark',\n",
       "       'El Salvador', 'Estonia', 'Eswatini', 'Ethiopia', 'Fiji',\n",
       "       'Finland', 'France', 'Gambia', 'Germany', 'Ghana', 'Guatemala',\n",
       "       'Guinea', 'Guinea-Bissau', 'Guyana', 'Honduras', 'Hungary',\n",
       "       'Iceland', 'Indonesia', 'Iran (Islamic Republic of)', 'Ireland',\n",
       "       'Israel', 'Italy', 'Jamaica', 'Japan', 'Jordan', 'Kazakhstan',\n",
       "       'Kenya', 'Kyrgyzstan', \"Lao People's Dem. Rep.\", 'Latvia',\n",
       "       'Lebanon', 'Lesotho', 'Lithuania', 'Luxembourg', 'Madagascar',\n",
       "       'Malawi', 'Malaysia', 'Maldives', 'Mali', 'Malta', 'Mexico',\n",
       "       'Mongolia', 'Mozambique', 'Myanmar', 'Namibia', 'Nepal',\n",
       "       'Netherlands', 'Niger', 'Norway', 'Oman', 'Peru', 'Poland',\n",
       "       'Portugal', 'Qatar', 'Republic of Moldova', 'Romania',\n",
       "       'Russian Federation', 'Rwanda', 'Senegal', 'Serbia', 'Seychelles',\n",
       "       'Sierra Leone', 'Slovakia', 'Slovenia', 'South Africa',\n",
       "       'South Sudan', 'Spain', 'Sri Lanka', 'Sweden', 'Switzerland',\n",
       "       'Thailand', 'Timor-Leste', 'Togo', 'Turkey', 'Uganda',\n",
       "       'United Kingdom', 'United States of America', 'Uruguay', 'Vanuatu',\n",
       "       'Viet Nam'], dtype=object)"
      ]
     },
     "execution_count": 192,
     "metadata": {},
     "output_type": "execute_result"
    }
   ],
   "source": [
    "data.index.to_numpy()"
   ]
  },
  {
   "cell_type": "markdown",
   "metadata": {},
   "source": [
    "## Analiza podataka"
   ]
  },
  {
   "cell_type": "code",
   "execution_count": 193,
   "metadata": {},
   "outputs": [
    {
     "data": {
      "text/html": [
       "<div>\n",
       "<style scoped>\n",
       "    .dataframe tbody tr th:only-of-type {\n",
       "        vertical-align: middle;\n",
       "    }\n",
       "\n",
       "    .dataframe tbody tr th {\n",
       "        vertical-align: top;\n",
       "    }\n",
       "\n",
       "    .dataframe thead th {\n",
       "        text-align: right;\n",
       "    }\n",
       "</style>\n",
       "<table border=\"1\" class=\"dataframe\">\n",
       "  <thead>\n",
       "    <tr style=\"text-align: right;\">\n",
       "      <th></th>\n",
       "      <th>Urban (%)</th>\n",
       "      <th>Life expectancy</th>\n",
       "      <th>GDP per capita</th>\n",
       "      <th>Exp on edu (% of GDP)</th>\n",
       "      <th>Exp on edu (% of gov exp)</th>\n",
       "      <th>Staff (% of total exp)</th>\n",
       "      <th>Current exp (% of total exp)</th>\n",
       "      <th>Capital exp (% of total exp)</th>\n",
       "    </tr>\n",
       "  </thead>\n",
       "  <tbody>\n",
       "    <tr>\n",
       "      <th>Afghanistan</th>\n",
       "      <td>24.666667</td>\n",
       "      <td>60.9765</td>\n",
       "      <td>593.00</td>\n",
       "      <td>3.54360</td>\n",
       "      <td>15.079333</td>\n",
       "      <td>71.91270</td>\n",
       "      <td>9.1317</td>\n",
       "      <td>18.95565</td>\n",
       "    </tr>\n",
       "    <tr>\n",
       "      <th>Albania</th>\n",
       "      <td>56.633333</td>\n",
       "      <td>76.5630</td>\n",
       "      <td>4115.50</td>\n",
       "      <td>3.69630</td>\n",
       "      <td>12.457350</td>\n",
       "      <td>76.09600</td>\n",
       "      <td>15.6955</td>\n",
       "      <td>8.20850</td>\n",
       "    </tr>\n",
       "    <tr>\n",
       "      <th>Argentina</th>\n",
       "      <td>91.400000</td>\n",
       "      <td>75.2715</td>\n",
       "      <td>13063.25</td>\n",
       "      <td>5.29595</td>\n",
       "      <td>14.212250</td>\n",
       "      <td>84.14395</td>\n",
       "      <td>8.3430</td>\n",
       "      <td>7.51305</td>\n",
       "    </tr>\n",
       "    <tr>\n",
       "      <th>Armenia</th>\n",
       "      <td>63.200000</td>\n",
       "      <td>73.3635</td>\n",
       "      <td>3648.25</td>\n",
       "      <td>3.00355</td>\n",
       "      <td>11.298850</td>\n",
       "      <td>82.46800</td>\n",
       "      <td>8.2352</td>\n",
       "      <td>9.29680</td>\n",
       "    </tr>\n",
       "    <tr>\n",
       "      <th>Australia</th>\n",
       "      <td>85.633333</td>\n",
       "      <td>81.9195</td>\n",
       "      <td>55678.50</td>\n",
       "      <td>5.44050</td>\n",
       "      <td>14.201700</td>\n",
       "      <td>65.22720</td>\n",
       "      <td>27.1111</td>\n",
       "      <td>7.66170</td>\n",
       "    </tr>\n",
       "  </tbody>\n",
       "</table>\n",
       "</div>"
      ],
      "text/plain": [
       "             Urban (%)  Life expectancy  GDP per capita  \\\n",
       "Afghanistan  24.666667          60.9765          593.00   \n",
       "Albania      56.633333          76.5630         4115.50   \n",
       "Argentina    91.400000          75.2715        13063.25   \n",
       "Armenia      63.200000          73.3635         3648.25   \n",
       "Australia    85.633333          81.9195        55678.50   \n",
       "\n",
       "             Exp on edu (% of GDP)  Exp on edu (% of gov exp)  \\\n",
       "Afghanistan                3.54360                  15.079333   \n",
       "Albania                    3.69630                  12.457350   \n",
       "Argentina                  5.29595                  14.212250   \n",
       "Armenia                    3.00355                  11.298850   \n",
       "Australia                  5.44050                  14.201700   \n",
       "\n",
       "             Staff (% of total exp)  Current exp (% of total exp)  \\\n",
       "Afghanistan                71.91270                        9.1317   \n",
       "Albania                    76.09600                       15.6955   \n",
       "Argentina                  84.14395                        8.3430   \n",
       "Armenia                    82.46800                        8.2352   \n",
       "Australia                  65.22720                       27.1111   \n",
       "\n",
       "             Capital exp (% of total exp)  \n",
       "Afghanistan                      18.95565  \n",
       "Albania                           8.20850  \n",
       "Argentina                         7.51305  \n",
       "Armenia                           9.29680  \n",
       "Australia                         7.66170  "
      ]
     },
     "execution_count": 193,
     "metadata": {},
     "output_type": "execute_result"
    }
   ],
   "source": [
    "data.head()"
   ]
  },
  {
   "cell_type": "code",
   "execution_count": 194,
   "metadata": {},
   "outputs": [
    {
     "data": {
      "text/html": [
       "<div>\n",
       "<style scoped>\n",
       "    .dataframe tbody tr th:only-of-type {\n",
       "        vertical-align: middle;\n",
       "    }\n",
       "\n",
       "    .dataframe tbody tr th {\n",
       "        vertical-align: top;\n",
       "    }\n",
       "\n",
       "    .dataframe thead th {\n",
       "        text-align: right;\n",
       "    }\n",
       "</style>\n",
       "<table border=\"1\" class=\"dataframe\">\n",
       "  <thead>\n",
       "    <tr style=\"text-align: right;\">\n",
       "      <th></th>\n",
       "      <th>Urban (%)</th>\n",
       "      <th>Life expectancy</th>\n",
       "      <th>GDP per capita</th>\n",
       "      <th>Exp on edu (% of GDP)</th>\n",
       "      <th>Exp on edu (% of gov exp)</th>\n",
       "      <th>Staff (% of total exp)</th>\n",
       "      <th>Current exp (% of total exp)</th>\n",
       "      <th>Capital exp (% of total exp)</th>\n",
       "    </tr>\n",
       "  </thead>\n",
       "  <tbody>\n",
       "    <tr>\n",
       "      <th>count</th>\n",
       "      <td>111.000000</td>\n",
       "      <td>111.000000</td>\n",
       "      <td>111.000000</td>\n",
       "      <td>111.000000</td>\n",
       "      <td>111.000000</td>\n",
       "      <td>111.000000</td>\n",
       "      <td>111.000000</td>\n",
       "      <td>111.000000</td>\n",
       "    </tr>\n",
       "    <tr>\n",
       "      <th>mean</th>\n",
       "      <td>57.636036</td>\n",
       "      <td>70.366694</td>\n",
       "      <td>15530.063063</td>\n",
       "      <td>4.533950</td>\n",
       "      <td>13.987847</td>\n",
       "      <td>68.524785</td>\n",
       "      <td>22.084718</td>\n",
       "      <td>9.559075</td>\n",
       "    </tr>\n",
       "    <tr>\n",
       "      <th>std</th>\n",
       "      <td>23.672273</td>\n",
       "      <td>9.396237</td>\n",
       "      <td>20736.855108</td>\n",
       "      <td>1.482636</td>\n",
       "      <td>4.023870</td>\n",
       "      <td>11.959667</td>\n",
       "      <td>11.231072</td>\n",
       "      <td>7.086279</td>\n",
       "    </tr>\n",
       "    <tr>\n",
       "      <th>min</th>\n",
       "      <td>11.900000</td>\n",
       "      <td>45.610500</td>\n",
       "      <td>268.750000</td>\n",
       "      <td>1.332700</td>\n",
       "      <td>2.014433</td>\n",
       "      <td>30.246300</td>\n",
       "      <td>0.876100</td>\n",
       "      <td>0.133300</td>\n",
       "    </tr>\n",
       "    <tr>\n",
       "      <th>25%</th>\n",
       "      <td>38.183333</td>\n",
       "      <td>63.852250</td>\n",
       "      <td>1401.750000</td>\n",
       "      <td>3.571600</td>\n",
       "      <td>11.312625</td>\n",
       "      <td>62.934275</td>\n",
       "      <td>15.611900</td>\n",
       "      <td>4.951483</td>\n",
       "    </tr>\n",
       "    <tr>\n",
       "      <th>50%</th>\n",
       "      <td>57.133333</td>\n",
       "      <td>73.404500</td>\n",
       "      <td>5694.500000</td>\n",
       "      <td>4.582533</td>\n",
       "      <td>13.471500</td>\n",
       "      <td>70.180650</td>\n",
       "      <td>21.125833</td>\n",
       "      <td>7.909800</td>\n",
       "    </tr>\n",
       "    <tr>\n",
       "      <th>75%</th>\n",
       "      <td>77.200000</td>\n",
       "      <td>77.893750</td>\n",
       "      <td>19322.125000</td>\n",
       "      <td>5.459050</td>\n",
       "      <td>16.201900</td>\n",
       "      <td>75.754150</td>\n",
       "      <td>26.826150</td>\n",
       "      <td>11.871000</td>\n",
       "    </tr>\n",
       "    <tr>\n",
       "      <th>max</th>\n",
       "      <td>98.833333</td>\n",
       "      <td>82.987000</td>\n",
       "      <td>103730.500000</td>\n",
       "      <td>8.229633</td>\n",
       "      <td>26.701350</td>\n",
       "      <td>98.710700</td>\n",
       "      <td>64.526900</td>\n",
       "      <td>42.460300</td>\n",
       "    </tr>\n",
       "  </tbody>\n",
       "</table>\n",
       "</div>"
      ],
      "text/plain": [
       "        Urban (%)  Life expectancy  GDP per capita  Exp on edu (% of GDP)  \\\n",
       "count  111.000000       111.000000      111.000000             111.000000   \n",
       "mean    57.636036        70.366694    15530.063063               4.533950   \n",
       "std     23.672273         9.396237    20736.855108               1.482636   \n",
       "min     11.900000        45.610500      268.750000               1.332700   \n",
       "25%     38.183333        63.852250     1401.750000               3.571600   \n",
       "50%     57.133333        73.404500     5694.500000               4.582533   \n",
       "75%     77.200000        77.893750    19322.125000               5.459050   \n",
       "max     98.833333        82.987000   103730.500000               8.229633   \n",
       "\n",
       "       Exp on edu (% of gov exp)  Staff (% of total exp)  \\\n",
       "count                 111.000000              111.000000   \n",
       "mean                   13.987847               68.524785   \n",
       "std                     4.023870               11.959667   \n",
       "min                     2.014433               30.246300   \n",
       "25%                    11.312625               62.934275   \n",
       "50%                    13.471500               70.180650   \n",
       "75%                    16.201900               75.754150   \n",
       "max                    26.701350               98.710700   \n",
       "\n",
       "       Current exp (% of total exp)  Capital exp (% of total exp)  \n",
       "count                    111.000000                    111.000000  \n",
       "mean                      22.084718                      9.559075  \n",
       "std                       11.231072                      7.086279  \n",
       "min                        0.876100                      0.133300  \n",
       "25%                       15.611900                      4.951483  \n",
       "50%                       21.125833                      7.909800  \n",
       "75%                       26.826150                     11.871000  \n",
       "max                       64.526900                     42.460300  "
      ]
     },
     "execution_count": 194,
     "metadata": {},
     "output_type": "execute_result"
    }
   ],
   "source": [
    "data.describe()"
   ]
  },
  {
   "cell_type": "markdown",
   "metadata": {},
   "source": [
    "U svrhu crtanja histograma podataka zajedno sa grafom normalne razdiobe definiramo funkciju crtaj_histogram."
   ]
  },
  {
   "cell_type": "code",
   "execution_count": 195,
   "metadata": {},
   "outputs": [],
   "source": [
    "def crtaj_histogram(data, stupci={}):\n",
    "    '''Funkcija prima DataFrame i crta histograme frekvencija svih stupaca zajedno sa funkcijom gustoce normalne razdiobe.\n",
    "    Dodatni (opcionalni) parametar stupci je dictionary kojim se mogu zadavati imena histograma različita od imena stupaca u tablici.\n",
    "    Ako je parametar stupci prazan rijecnik, onda su imena histograma imena stupaca u tablici.'''\n",
    "    \n",
    "    test = lambda br_stupaca : int(br_stupaca/2)+1 if br_stupaca % 2 else int(br_stupaca/2)\n",
    "    m = test(len(data.columns)) #Broj redaka u subplots\n",
    "    \n",
    "    hist, ax = plt.subplots(m, 2, figsize=(15,15))\n",
    "    hist.tight_layout(pad=4.0)\n",
    "    j=0\n",
    "    for row in ax:\n",
    "        for axis in row:\n",
    "            if (j<len(data.columns)):\n",
    "                axis.hist(data.iloc[:,j], density=True, ec = 'black')\n",
    "                \n",
    "                mu, sigma = data.iloc[:,j].mean(), data.iloc[:,j].std()\n",
    "                x = np.linspace(mu - 3*sigma, mu+3*sigma) #znamo da je u normalnoj distribuciji preko 99% podataka na udaljenosti manjoj od 3*std\n",
    "                y = scs.norm.pdf(x, mu, sigma)\n",
    "                axis.plot(x, y, color='red', lw=1.4)\n",
    "                \n",
    "                if not bool(stupci): #ako je dict prazan, ispisujem imena stupaca\n",
    "                    axis.set_title(data.columns[j])\n",
    "                else: #inace koristi dict   \n",
    "                    axis.set_title(stupci[data.columns[j]])\n",
    "                axis.set_ylabel('Frequency')\n",
    "                axis.set_xlabel('')\n",
    "            else:\n",
    "                axis.remove()\n",
    "            j+=1\n",
    "    #return hist"
   ]
  },
  {
   "cell_type": "code",
   "execution_count": 196,
   "metadata": {},
   "outputs": [
    {
     "data": {
      "image/png": "[encoded data removed]",
      "text/plain": [
       "<Figure size 1080x1080 with 8 Axes>"
      ]
     },
     "metadata": {
      "needs_background": "light"
     },
     "output_type": "display_data"
    }
   ],
   "source": [
    "crtaj_histogram(data, stupci)"
   ]
  },
  {
   "cell_type": "markdown",
   "metadata": {},
   "source": [
    "\n",
    "## Analiza normalnosti podataka"
   ]
  },
  {
   "cell_type": "code",
   "execution_count": 197,
   "metadata": {},
   "outputs": [
    {
     "data": {
      "image/png": "[encoded data removed]",
      "text/plain": [
       "<Figure size 1080x1080 with 8 Axes>"
      ]
     },
     "metadata": {
      "needs_background": "light"
     },
     "output_type": "display_data"
    }
   ],
   "source": [
    "def crtaj_norm_vjer_graf(data, stupci={}):\n",
    "    \n",
    "    test = lambda br_stupaca : int(br_stupaca/2)+1 if br_stupaca % 2 else int(br_stupaca/2)\n",
    "    m = test(len(data.columns)) #Broj redaka u subplots\n",
    "    \n",
    "    fig, ax = plt.subplots(m, 2, figsize=(15,15))\n",
    "    fig.tight_layout(pad=5.0)\n",
    "    j=0\n",
    "    for row in ax:\n",
    "        for axis in row:\n",
    "            if (j<len(data.columns)):\n",
    "                stats.probplot(data.iloc[:,j], plot=axis, rvalue=True, dist='norm')\n",
    "                if not bool(stupci):\n",
    "                    axis.set_title(data.columns[j])\n",
    "                else:   \n",
    "                    axis.set_title(stupci[data.columns[j]])\n",
    "            else:\n",
    "                axis.remove()\n",
    "            j+=1\n",
    "    #return fig\n",
    "crtaj_norm_vjer_graf(data,stupci)"
   ]
  },
  {
   "cell_type": "code",
   "execution_count": 198,
   "metadata": {},
   "outputs": [
    {
     "data": {
      "text/html": [
       "<style  type=\"text/css\" >\n",
       "    #T_f8fbacf0_825a_11ea_80b5_c4651694003erow0_col0 {\n",
       "            color:  black;\n",
       "        }    #T_f8fbacf0_825a_11ea_80b5_c4651694003erow0_col1 {\n",
       "            color:  red;\n",
       "        }    #T_f8fbacf0_825a_11ea_80b5_c4651694003erow0_col2 {\n",
       "            color:  red;\n",
       "        }    #T_f8fbacf0_825a_11ea_80b5_c4651694003erow0_col3 {\n",
       "            color:  black;\n",
       "        }    #T_f8fbacf0_825a_11ea_80b5_c4651694003erow0_col4 {\n",
       "            color:  black;\n",
       "        }    #T_f8fbacf0_825a_11ea_80b5_c4651694003erow0_col5 {\n",
       "            color:  red;\n",
       "        }    #T_f8fbacf0_825a_11ea_80b5_c4651694003erow0_col6 {\n",
       "            color:  red;\n",
       "        }    #T_f8fbacf0_825a_11ea_80b5_c4651694003erow0_col7 {\n",
       "            color:  red;\n",
       "        }    #T_f8fbacf0_825a_11ea_80b5_c4651694003erow1_col0 {\n",
       "            color:  red;\n",
       "        }    #T_f8fbacf0_825a_11ea_80b5_c4651694003erow1_col1 {\n",
       "            color:  red;\n",
       "        }    #T_f8fbacf0_825a_11ea_80b5_c4651694003erow1_col2 {\n",
       "            color:  red;\n",
       "        }    #T_f8fbacf0_825a_11ea_80b5_c4651694003erow1_col3 {\n",
       "            color:  black;\n",
       "        }    #T_f8fbacf0_825a_11ea_80b5_c4651694003erow1_col4 {\n",
       "            color:  black;\n",
       "        }    #T_f8fbacf0_825a_11ea_80b5_c4651694003erow1_col5 {\n",
       "            color:  red;\n",
       "        }    #T_f8fbacf0_825a_11ea_80b5_c4651694003erow1_col6 {\n",
       "            color:  red;\n",
       "        }    #T_f8fbacf0_825a_11ea_80b5_c4651694003erow1_col7 {\n",
       "            color:  red;\n",
       "        }    #T_f8fbacf0_825a_11ea_80b5_c4651694003erow2_col0 {\n",
       "            color:  red;\n",
       "        }    #T_f8fbacf0_825a_11ea_80b5_c4651694003erow2_col1 {\n",
       "            color:  red;\n",
       "        }    #T_f8fbacf0_825a_11ea_80b5_c4651694003erow2_col2 {\n",
       "            color:  red;\n",
       "        }    #T_f8fbacf0_825a_11ea_80b5_c4651694003erow2_col3 {\n",
       "            color:  black;\n",
       "        }    #T_f8fbacf0_825a_11ea_80b5_c4651694003erow2_col4 {\n",
       "            color:  black;\n",
       "        }    #T_f8fbacf0_825a_11ea_80b5_c4651694003erow2_col5 {\n",
       "            color:  red;\n",
       "        }    #T_f8fbacf0_825a_11ea_80b5_c4651694003erow2_col6 {\n",
       "            color:  red;\n",
       "        }    #T_f8fbacf0_825a_11ea_80b5_c4651694003erow2_col7 {\n",
       "            color:  red;\n",
       "        }</style><table id=\"T_f8fbacf0_825a_11ea_80b5_c4651694003e\" ><thead>    <tr>        <th class=\"blank level0\" ></th>        <th class=\"col_heading level0 col0\" >Urban (%)</th>        <th class=\"col_heading level0 col1\" >Life expectancy</th>        <th class=\"col_heading level0 col2\" >GDP per capita</th>        <th class=\"col_heading level0 col3\" >Exp on edu (% of GDP)</th>        <th class=\"col_heading level0 col4\" >Exp on edu (% of gov exp)</th>        <th class=\"col_heading level0 col5\" >Staff (% of total exp)</th>        <th class=\"col_heading level0 col6\" >Current exp (% of total exp)</th>        <th class=\"col_heading level0 col7\" >Capital exp (% of total exp)</th>    </tr></thead><tbody>\n",
       "                <tr>\n",
       "                        <th id=\"T_f8fbacf0_825a_11ea_80b5_c4651694003elevel0_row0\" class=\"row_heading level0 row0\" >Lilliefors KS-test</th>\n",
       "                        <td id=\"T_f8fbacf0_825a_11ea_80b5_c4651694003erow0_col0\" class=\"data row0 col0\" >0.0652</td>\n",
       "                        <td id=\"T_f8fbacf0_825a_11ea_80b5_c4651694003erow0_col1\" class=\"data row0 col1\" >0.0010</td>\n",
       "                        <td id=\"T_f8fbacf0_825a_11ea_80b5_c4651694003erow0_col2\" class=\"data row0 col2\" >0.0010</td>\n",
       "                        <td id=\"T_f8fbacf0_825a_11ea_80b5_c4651694003erow0_col3\" class=\"data row0 col3\" >0.9126</td>\n",
       "                        <td id=\"T_f8fbacf0_825a_11ea_80b5_c4651694003erow0_col4\" class=\"data row0 col4\" >0.4285</td>\n",
       "                        <td id=\"T_f8fbacf0_825a_11ea_80b5_c4651694003erow0_col5\" class=\"data row0 col5\" >0.0202</td>\n",
       "                        <td id=\"T_f8fbacf0_825a_11ea_80b5_c4651694003erow0_col6\" class=\"data row0 col6\" >0.0045</td>\n",
       "                        <td id=\"T_f8fbacf0_825a_11ea_80b5_c4651694003erow0_col7\" class=\"data row0 col7\" >0.0010</td>\n",
       "            </tr>\n",
       "            <tr>\n",
       "                        <th id=\"T_f8fbacf0_825a_11ea_80b5_c4651694003elevel0_row1\" class=\"row_heading level0 row1\" >normaltest</th>\n",
       "                        <td id=\"T_f8fbacf0_825a_11ea_80b5_c4651694003erow1_col0\" class=\"data row1 col0\" >0.0000</td>\n",
       "                        <td id=\"T_f8fbacf0_825a_11ea_80b5_c4651694003erow1_col1\" class=\"data row1 col1\" >0.0058</td>\n",
       "                        <td id=\"T_f8fbacf0_825a_11ea_80b5_c4651694003erow1_col2\" class=\"data row1 col2\" >0.0000</td>\n",
       "                        <td id=\"T_f8fbacf0_825a_11ea_80b5_c4651694003erow1_col3\" class=\"data row1 col3\" >0.6176</td>\n",
       "                        <td id=\"T_f8fbacf0_825a_11ea_80b5_c4651694003erow1_col4\" class=\"data row1 col4\" >0.2700</td>\n",
       "                        <td id=\"T_f8fbacf0_825a_11ea_80b5_c4651694003erow1_col5\" class=\"data row1 col5\" >0.0027</td>\n",
       "                        <td id=\"T_f8fbacf0_825a_11ea_80b5_c4651694003erow1_col6\" class=\"data row1 col6\" >0.0000</td>\n",
       "                        <td id=\"T_f8fbacf0_825a_11ea_80b5_c4651694003erow1_col7\" class=\"data row1 col7\" >0.0000</td>\n",
       "            </tr>\n",
       "            <tr>\n",
       "                        <th id=\"T_f8fbacf0_825a_11ea_80b5_c4651694003elevel0_row2\" class=\"row_heading level0 row2\" >Shapiro</th>\n",
       "                        <td id=\"T_f8fbacf0_825a_11ea_80b5_c4651694003erow2_col0\" class=\"data row2 col0\" >0.0019</td>\n",
       "                        <td id=\"T_f8fbacf0_825a_11ea_80b5_c4651694003erow2_col1\" class=\"data row2 col1\" >0.0000</td>\n",
       "                        <td id=\"T_f8fbacf0_825a_11ea_80b5_c4651694003erow2_col2\" class=\"data row2 col2\" >0.0000</td>\n",
       "                        <td id=\"T_f8fbacf0_825a_11ea_80b5_c4651694003erow2_col3\" class=\"data row2 col3\" >0.6993</td>\n",
       "                        <td id=\"T_f8fbacf0_825a_11ea_80b5_c4651694003erow2_col4\" class=\"data row2 col4\" >0.2909</td>\n",
       "                        <td id=\"T_f8fbacf0_825a_11ea_80b5_c4651694003erow2_col5\" class=\"data row2 col5\" >0.0035</td>\n",
       "                        <td id=\"T_f8fbacf0_825a_11ea_80b5_c4651694003erow2_col6\" class=\"data row2 col6\" >0.0001</td>\n",
       "                        <td id=\"T_f8fbacf0_825a_11ea_80b5_c4651694003erow2_col7\" class=\"data row2 col7\" >0.0000</td>\n",
       "            </tr>\n",
       "    </tbody></table>"
      ],
      "text/plain": [
       "<pandas.io.formats.style.Styler at 0x2c35b008cc8>"
      ]
     },
     "execution_count": 198,
     "metadata": {},
     "output_type": "execute_result"
    }
   ],
   "source": [
    "def boja(pv):\n",
    "    boja = 'red' if pv < 0.05 else 'black'\n",
    "    return 'color: %s' % boja\n",
    "\n",
    "normal_test = pd.DataFrame([[lilliefors(data[stupac], dist='norm', pvalmethod='table')[1] for stupac in data.columns],\n",
    "                            [stats.normaltest(data[stupac])[1] for stupac in data.columns],\n",
    "                            [stats.shapiro(data[stupac])[1] for stupac in data.columns]],\n",
    "                            columns=data.columns,\n",
    "                            index=['Lilliefors KS-test', 'normaltest', 'Shapiro'])\n",
    "\n",
    "normal_test.style.applymap(boja).set_precision(4)"
   ]
  },
  {
   "cell_type": "markdown",
   "metadata": {},
   "source": [
    "P-vrijednosti testova normalnosti su dane u gornjoj tablici. Značajne vrijednosti na razini značajnosti $\\alpha = 0.5$ označene su crvenom bojom.\n",
    "\n",
    "Dakle, za Urban (%), Exp on edu (% of GDP) i Exp on edu (% of gov exp) ne odbacujem pretpostavku da podaci dolaze iz normalno distribuiranih populacija. Current exp (% of total exp) i Capital exp (% of total exp) prema testovima nisu normalno distribuirani ali njihovi histogrami pokazuju da \"nisu daleko\" od normalnih distribucija. Za ostale podatke niti ne očekujemo da će biti normalno distribuirani."
   ]
  },
  {
   "cell_type": "markdown",
   "metadata": {},
   "source": [
    "### Koeficijenti korelacije\n",
    "\n",
    "Sada računam koeficijente korelacije između parova podataka danih u tablici.\n",
    "Prvo računam Pearsonov koeficijent korelacije i testiram hipotezu $H_0: \\rho = 0$ nasuprot hipotezi $H_1: \\rho \\neq 0$.\n",
    "Za testiranje Pearsonovog koeficijenta nužna je pretpostavka o normalnosti podataka. Zato za provjeru računam i Spearsonov koeficijent jer analogan test [ne zahtjeva](https://docs.scipy.org/doc/scipy-0.14.0/reference/generated/scipy.stats.spearmanr.html) pretpostavku o normalnosti. Pearsonov koeficijent korelacije pokazuje stupanj linearnog odnosa između podataka, a Spearmanov koeficijent stupanje monotone povezanosti podataka ([izvor](https://support.minitab.com/en-us/minitab-express/1/help-and-how-to/modeling-statistics/regression/supporting-topics/basics/a-comparison-of-the-pearson-and-spearman-correlation-methods/)).\n"
   ]
  },
  {
   "cell_type": "code",
   "execution_count": 199,
   "metadata": {},
   "outputs": [],
   "source": [
    "def korelacija(data, metoda):\n",
    "    '''Funkcija računa matricu koeficijenata korelacija nad svim kombinacijama stupaca matrica.\n",
    "    Koeficijenti koji su značajni označeni su s ***. Argumenti funkcije su DataFrame podataka i string koju metodu koristim'''\n",
    "    if metoda not in {'pearson','spearman'}:\n",
    "        raise ValueError(\"argument mora biti 'pearson' ili 'spearman'\")\n",
    "    cor = data.corr(method=metoda)\n",
    "    for i in data.columns:\n",
    "        for j in data.columns:\n",
    "            if metoda == 'pearson':\n",
    "                ro, pvalue = stats.pearsonr(data[i], data[j])\n",
    "            else:\n",
    "                ro, pvalue = stats.spearmanr(data[i], data[j])\n",
    "            if i == j:\n",
    "                cor.loc[i,j] = ''\n",
    "            elif pvalue < 0.05:\n",
    "                cor.loc[i,j] = '***%.4f' % (cor.loc[i,j])\n",
    "            else:\n",
    "                cor.loc[i,j] = '%.4f' % (cor.loc[i,j])\n",
    "    return cor"
   ]
  },
  {
   "cell_type": "code",
   "execution_count": 200,
   "metadata": {},
   "outputs": [
    {
     "data": {
      "text/html": [
       "<div>\n",
       "<style scoped>\n",
       "    .dataframe tbody tr th:only-of-type {\n",
       "        vertical-align: middle;\n",
       "    }\n",
       "\n",
       "    .dataframe tbody tr th {\n",
       "        vertical-align: top;\n",
       "    }\n",
       "\n",
       "    .dataframe thead th {\n",
       "        text-align: right;\n",
       "    }\n",
       "</style>\n",
       "<table border=\"1\" class=\"dataframe\">\n",
       "  <thead>\n",
       "    <tr style=\"text-align: right;\">\n",
       "      <th></th>\n",
       "      <th>Urban (%)</th>\n",
       "      <th>Life expectancy</th>\n",
       "      <th>GDP per capita</th>\n",
       "      <th>Exp on edu (% of GDP)</th>\n",
       "      <th>Exp on edu (% of gov exp)</th>\n",
       "      <th>Staff (% of total exp)</th>\n",
       "      <th>Current exp (% of total exp)</th>\n",
       "      <th>Capital exp (% of total exp)</th>\n",
       "    </tr>\n",
       "  </thead>\n",
       "  <tbody>\n",
       "    <tr>\n",
       "      <th>Urban (%)</th>\n",
       "      <td></td>\n",
       "      <td>***0.7165</td>\n",
       "      <td>***0.6275</td>\n",
       "      <td>***0.3198</td>\n",
       "      <td>-0.1739</td>\n",
       "      <td>***0.2517</td>\n",
       "      <td>-0.1748</td>\n",
       "      <td>-0.1391</td>\n",
       "    </tr>\n",
       "    <tr>\n",
       "      <th>Life expectancy</th>\n",
       "      <td>***0.7165</td>\n",
       "      <td></td>\n",
       "      <td>***0.6548</td>\n",
       "      <td>***0.2799</td>\n",
       "      <td>***-0.2898</td>\n",
       "      <td>0.0633</td>\n",
       "      <td>0.0563</td>\n",
       "      <td>***-0.1967</td>\n",
       "    </tr>\n",
       "    <tr>\n",
       "      <th>GDP per capita</th>\n",
       "      <td>***0.6275</td>\n",
       "      <td>***0.6548</td>\n",
       "      <td></td>\n",
       "      <td>***0.3502</td>\n",
       "      <td>***-0.2463</td>\n",
       "      <td>0.0622</td>\n",
       "      <td>-0.0153</td>\n",
       "      <td>-0.0930</td>\n",
       "    </tr>\n",
       "    <tr>\n",
       "      <th>Exp on edu (% of GDP)</th>\n",
       "      <td>***0.3198</td>\n",
       "      <td>***0.2799</td>\n",
       "      <td>***0.3502</td>\n",
       "      <td></td>\n",
       "      <td>***0.4563</td>\n",
       "      <td>0.0594</td>\n",
       "      <td>0.0286</td>\n",
       "      <td>-0.1844</td>\n",
       "    </tr>\n",
       "    <tr>\n",
       "      <th>Exp on edu (% of gov exp)</th>\n",
       "      <td>-0.1739</td>\n",
       "      <td>***-0.2898</td>\n",
       "      <td>***-0.2463</td>\n",
       "      <td>***0.4563</td>\n",
       "      <td></td>\n",
       "      <td>-0.0182</td>\n",
       "      <td>-0.0430</td>\n",
       "      <td>0.0513</td>\n",
       "    </tr>\n",
       "    <tr>\n",
       "      <th>Staff (% of total exp)</th>\n",
       "      <td>***0.2517</td>\n",
       "      <td>0.0633</td>\n",
       "      <td>0.0622</td>\n",
       "      <td>0.0594</td>\n",
       "      <td>-0.0182</td>\n",
       "      <td></td>\n",
       "      <td>***-0.8119</td>\n",
       "      <td>***-0.3772</td>\n",
       "    </tr>\n",
       "    <tr>\n",
       "      <th>Current exp (% of total exp)</th>\n",
       "      <td>-0.1748</td>\n",
       "      <td>0.0563</td>\n",
       "      <td>-0.0153</td>\n",
       "      <td>0.0286</td>\n",
       "      <td>-0.0430</td>\n",
       "      <td>***-0.8119</td>\n",
       "      <td></td>\n",
       "      <td>***-0.2173</td>\n",
       "    </tr>\n",
       "    <tr>\n",
       "      <th>Capital exp (% of total exp)</th>\n",
       "      <td>-0.1391</td>\n",
       "      <td>***-0.1967</td>\n",
       "      <td>-0.0930</td>\n",
       "      <td>-0.1844</td>\n",
       "      <td>0.0513</td>\n",
       "      <td>***-0.3772</td>\n",
       "      <td>***-0.2173</td>\n",
       "      <td></td>\n",
       "    </tr>\n",
       "  </tbody>\n",
       "</table>\n",
       "</div>"
      ],
      "text/plain": [
       "                              Urban (%) Life expectancy GDP per capita  \\\n",
       "Urban (%)                                     ***0.7165      ***0.6275   \n",
       "Life expectancy               ***0.7165                      ***0.6548   \n",
       "GDP per capita                ***0.6275       ***0.6548                  \n",
       "Exp on edu (% of GDP)         ***0.3198       ***0.2799      ***0.3502   \n",
       "Exp on edu (% of gov exp)       -0.1739      ***-0.2898     ***-0.2463   \n",
       "Staff (% of total exp)        ***0.2517          0.0633         0.0622   \n",
       "Current exp (% of total exp)    -0.1748          0.0563        -0.0153   \n",
       "Capital exp (% of total exp)    -0.1391      ***-0.1967        -0.0930   \n",
       "\n",
       "                             Exp on edu (% of GDP) Exp on edu (% of gov exp)  \\\n",
       "Urban (%)                                ***0.3198                   -0.1739   \n",
       "Life expectancy                          ***0.2799                ***-0.2898   \n",
       "GDP per capita                           ***0.3502                ***-0.2463   \n",
       "Exp on edu (% of GDP)                                              ***0.4563   \n",
       "Exp on edu (% of gov exp)                ***0.4563                             \n",
       "Staff (% of total exp)                      0.0594                   -0.0182   \n",
       "Current exp (% of total exp)                0.0286                   -0.0430   \n",
       "Capital exp (% of total exp)               -0.1844                    0.0513   \n",
       "\n",
       "                             Staff (% of total exp)  \\\n",
       "Urban (%)                                 ***0.2517   \n",
       "Life expectancy                              0.0633   \n",
       "GDP per capita                               0.0622   \n",
       "Exp on edu (% of GDP)                        0.0594   \n",
       "Exp on edu (% of gov exp)                   -0.0182   \n",
       "Staff (% of total exp)                                \n",
       "Current exp (% of total exp)             ***-0.8119   \n",
       "Capital exp (% of total exp)             ***-0.3772   \n",
       "\n",
       "                             Current exp (% of total exp)  \\\n",
       "Urban (%)                                         -0.1748   \n",
       "Life expectancy                                    0.0563   \n",
       "GDP per capita                                    -0.0153   \n",
       "Exp on edu (% of GDP)                              0.0286   \n",
       "Exp on edu (% of gov exp)                         -0.0430   \n",
       "Staff (% of total exp)                         ***-0.8119   \n",
       "Current exp (% of total exp)                                \n",
       "Capital exp (% of total exp)                   ***-0.2173   \n",
       "\n",
       "                             Capital exp (% of total exp)  \n",
       "Urban (%)                                         -0.1391  \n",
       "Life expectancy                                ***-0.1967  \n",
       "GDP per capita                                    -0.0930  \n",
       "Exp on edu (% of GDP)                             -0.1844  \n",
       "Exp on edu (% of gov exp)                          0.0513  \n",
       "Staff (% of total exp)                         ***-0.3772  \n",
       "Current exp (% of total exp)                   ***-0.2173  \n",
       "Capital exp (% of total exp)                               "
      ]
     },
     "execution_count": 200,
     "metadata": {},
     "output_type": "execute_result"
    }
   ],
   "source": [
    "korelacija(data, 'pearson')"
   ]
  },
  {
   "cell_type": "code",
   "execution_count": 201,
   "metadata": {},
   "outputs": [
    {
     "data": {
      "text/html": [
       "<div>\n",
       "<style scoped>\n",
       "    .dataframe tbody tr th:only-of-type {\n",
       "        vertical-align: middle;\n",
       "    }\n",
       "\n",
       "    .dataframe tbody tr th {\n",
       "        vertical-align: top;\n",
       "    }\n",
       "\n",
       "    .dataframe thead th {\n",
       "        text-align: right;\n",
       "    }\n",
       "</style>\n",
       "<table border=\"1\" class=\"dataframe\">\n",
       "  <thead>\n",
       "    <tr style=\"text-align: right;\">\n",
       "      <th></th>\n",
       "      <th>Urban (%)</th>\n",
       "      <th>Life expectancy</th>\n",
       "      <th>GDP per capita</th>\n",
       "      <th>Exp on edu (% of GDP)</th>\n",
       "      <th>Exp on edu (% of gov exp)</th>\n",
       "      <th>Staff (% of total exp)</th>\n",
       "      <th>Current exp (% of total exp)</th>\n",
       "      <th>Capital exp (% of total exp)</th>\n",
       "    </tr>\n",
       "  </thead>\n",
       "  <tbody>\n",
       "    <tr>\n",
       "      <th>Urban (%)</th>\n",
       "      <td></td>\n",
       "      <td>***0.7382</td>\n",
       "      <td>***0.8013</td>\n",
       "      <td>***0.3028</td>\n",
       "      <td>-0.1806</td>\n",
       "      <td>***0.2159</td>\n",
       "      <td>-0.1497</td>\n",
       "      <td>-0.0594</td>\n",
       "    </tr>\n",
       "    <tr>\n",
       "      <th>Life expectancy</th>\n",
       "      <td>***0.7382</td>\n",
       "      <td></td>\n",
       "      <td>***0.8987</td>\n",
       "      <td>***0.3176</td>\n",
       "      <td>***-0.3203</td>\n",
       "      <td>0.0772</td>\n",
       "      <td>0.0260</td>\n",
       "      <td>-0.0574</td>\n",
       "    </tr>\n",
       "    <tr>\n",
       "      <th>GDP per capita</th>\n",
       "      <td>***0.8013</td>\n",
       "      <td>***0.8987</td>\n",
       "      <td></td>\n",
       "      <td>***0.3694</td>\n",
       "      <td>***-0.3484</td>\n",
       "      <td>0.0431</td>\n",
       "      <td>0.0823</td>\n",
       "      <td>-0.1203</td>\n",
       "    </tr>\n",
       "    <tr>\n",
       "      <th>Exp on edu (% of GDP)</th>\n",
       "      <td>***0.3028</td>\n",
       "      <td>***0.3176</td>\n",
       "      <td>***0.3694</td>\n",
       "      <td></td>\n",
       "      <td>***0.4500</td>\n",
       "      <td>0.0333</td>\n",
       "      <td>0.0647</td>\n",
       "      <td>-0.1141</td>\n",
       "    </tr>\n",
       "    <tr>\n",
       "      <th>Exp on edu (% of gov exp)</th>\n",
       "      <td>-0.1806</td>\n",
       "      <td>***-0.3203</td>\n",
       "      <td>***-0.3484</td>\n",
       "      <td>***0.4500</td>\n",
       "      <td></td>\n",
       "      <td>0.0419</td>\n",
       "      <td>-0.0406</td>\n",
       "      <td>-0.0296</td>\n",
       "    </tr>\n",
       "    <tr>\n",
       "      <th>Staff (% of total exp)</th>\n",
       "      <td>***0.2159</td>\n",
       "      <td>0.0772</td>\n",
       "      <td>0.0431</td>\n",
       "      <td>0.0333</td>\n",
       "      <td>0.0419</td>\n",
       "      <td></td>\n",
       "      <td>***-0.7731</td>\n",
       "      <td>***-0.3555</td>\n",
       "    </tr>\n",
       "    <tr>\n",
       "      <th>Current exp (% of total exp)</th>\n",
       "      <td>-0.1497</td>\n",
       "      <td>0.0260</td>\n",
       "      <td>0.0823</td>\n",
       "      <td>0.0647</td>\n",
       "      <td>-0.0406</td>\n",
       "      <td>***-0.7731</td>\n",
       "      <td></td>\n",
       "      <td>-0.1500</td>\n",
       "    </tr>\n",
       "    <tr>\n",
       "      <th>Capital exp (% of total exp)</th>\n",
       "      <td>-0.0594</td>\n",
       "      <td>-0.0574</td>\n",
       "      <td>-0.1203</td>\n",
       "      <td>-0.1141</td>\n",
       "      <td>-0.0296</td>\n",
       "      <td>***-0.3555</td>\n",
       "      <td>-0.1500</td>\n",
       "      <td></td>\n",
       "    </tr>\n",
       "  </tbody>\n",
       "</table>\n",
       "</div>"
      ],
      "text/plain": [
       "                              Urban (%) Life expectancy GDP per capita  \\\n",
       "Urban (%)                                     ***0.7382      ***0.8013   \n",
       "Life expectancy               ***0.7382                      ***0.8987   \n",
       "GDP per capita                ***0.8013       ***0.8987                  \n",
       "Exp on edu (% of GDP)         ***0.3028       ***0.3176      ***0.3694   \n",
       "Exp on edu (% of gov exp)       -0.1806      ***-0.3203     ***-0.3484   \n",
       "Staff (% of total exp)        ***0.2159          0.0772         0.0431   \n",
       "Current exp (% of total exp)    -0.1497          0.0260         0.0823   \n",
       "Capital exp (% of total exp)    -0.0594         -0.0574        -0.1203   \n",
       "\n",
       "                             Exp on edu (% of GDP) Exp on edu (% of gov exp)  \\\n",
       "Urban (%)                                ***0.3028                   -0.1806   \n",
       "Life expectancy                          ***0.3176                ***-0.3203   \n",
       "GDP per capita                           ***0.3694                ***-0.3484   \n",
       "Exp on edu (% of GDP)                                              ***0.4500   \n",
       "Exp on edu (% of gov exp)                ***0.4500                             \n",
       "Staff (% of total exp)                      0.0333                    0.0419   \n",
       "Current exp (% of total exp)                0.0647                   -0.0406   \n",
       "Capital exp (% of total exp)               -0.1141                   -0.0296   \n",
       "\n",
       "                             Staff (% of total exp)  \\\n",
       "Urban (%)                                 ***0.2159   \n",
       "Life expectancy                              0.0772   \n",
       "GDP per capita                               0.0431   \n",
       "Exp on edu (% of GDP)                        0.0333   \n",
       "Exp on edu (% of gov exp)                    0.0419   \n",
       "Staff (% of total exp)                                \n",
       "Current exp (% of total exp)             ***-0.7731   \n",
       "Capital exp (% of total exp)             ***-0.3555   \n",
       "\n",
       "                             Current exp (% of total exp)  \\\n",
       "Urban (%)                                         -0.1497   \n",
       "Life expectancy                                    0.0260   \n",
       "GDP per capita                                     0.0823   \n",
       "Exp on edu (% of GDP)                              0.0647   \n",
       "Exp on edu (% of gov exp)                         -0.0406   \n",
       "Staff (% of total exp)                         ***-0.7731   \n",
       "Current exp (% of total exp)                                \n",
       "Capital exp (% of total exp)                      -0.1500   \n",
       "\n",
       "                             Capital exp (% of total exp)  \n",
       "Urban (%)                                         -0.0594  \n",
       "Life expectancy                                   -0.0574  \n",
       "GDP per capita                                    -0.1203  \n",
       "Exp on edu (% of GDP)                             -0.1141  \n",
       "Exp on edu (% of gov exp)                         -0.0296  \n",
       "Staff (% of total exp)                         ***-0.3555  \n",
       "Current exp (% of total exp)                      -0.1500  \n",
       "Capital exp (% of total exp)                               "
      ]
     },
     "execution_count": 201,
     "metadata": {},
     "output_type": "execute_result"
    }
   ],
   "source": [
    "korelacija(data, 'spearman')"
   ]
  },
  {
   "cell_type": "markdown",
   "metadata": {},
   "source": [
    "Oznaka *** uz koeficijent korelacije u tablicama znači da je taj rezultat statistički značajan, odnosno koeficijent korelacije za te dvije varijable je različit od 0.\n",
    "\n",
    "Vidim da se zaključci o koreliranosti podataka razlikuju za dva slučaja: Capital exp (% of total exp) u odnosu na Life expectancy i Capital exp (% of total exp) u odnosu na Current exp (% of total exp). To su upravo slučajevi kada podaci jako odstupaju od normalnosti.\n",
    "\n",
    "Nisu svi odnosi u tablici zanimljivi. Očito je da će npr. Staff (% of total exp) i Current exp (% of total exp) biti negativno korelirani jer se radi o postocima istog iznosa.\n",
    "Međutim, uočavamo nepostojanje koreliranosti zadnja tri retka tablice s ostalim pokazateljima razvijenosti kao što su BDP per capita, očekivano trajanje života ili postotak gradskog stanovništva.\n",
    "Prikažimo to u dijagramima raspršenja na primjeru postotka potrošnje na zaposlenike od ukupne potrošnje na obrazovanje."
   ]
  },
  {
   "cell_type": "code",
   "execution_count": 202,
   "metadata": {},
   "outputs": [
    {
     "data": {
      "image/png": "[encoded data removed]",
      "text/plain": [
       "<Figure size 1080x216 with 3 Axes>"
      ]
     },
     "metadata": {
      "needs_background": "light"
     },
     "output_type": "display_data"
    }
   ],
   "source": [
    "fig, axes = plt.subplots(1, 3, figsize=(15,3))\n",
    "s1=[\"Urban (%)\", \"Life expectancy\", \"GDP per capita\"]\n",
    "for i in range(len(s1)):\n",
    "    sns.scatterplot(x = s1[i], y = \"Staff (% of total exp)\", data=data, ax=axes[i])\n",
    "#fig"
   ]
  },
  {
   "cell_type": "code",
   "execution_count": 203,
   "metadata": {},
   "outputs": [
    {
     "data": {
      "image/png": "[encoded data removed]",
      "text/plain": [
       "<Figure size 1080x432 with 6 Axes>"
      ]
     },
     "metadata": {
      "needs_background": "light"
     },
     "output_type": "display_data"
    }
   ],
   "source": [
    "fig, axes = plt.subplots(2, 3, figsize=(15,6))\n",
    "fig.tight_layout(pad=3.0)\n",
    "L = ['Urban (%)', 'Life expectancy', 'GDP per capita']\n",
    "for i in range(len(s1)):\n",
    "    sns.scatterplot(x = s1[i], y = 'Exp on edu (% of GDP)', data=data, ax=axes[0][i])\n",
    "    sns.scatterplot(x = s1[i], y = 'Exp on edu (% of gov exp)', data=data, ax=axes[1][i])\n",
    "#fig"
   ]
  },
  {
   "cell_type": "markdown",
   "metadata": {},
   "source": [
    "Vidimo da je potrošnja na obrazovanje kao postotka BDP-a slabo pozitivno korelirana (koeficijent korelacije je oko 0.3) s pokazateljima razvijenosti zemlje (BDP per capita, duljina trajanja života, postotak gradskog stanovništva). S druge strane, potrošnja na obrazovanje kao postotka od ukupne potrošnje je slabo negativno korelirana s pokazateljima razvijenosti."
   ]
  },
  {
   "cell_type": "code",
   "execution_count": 204,
   "metadata": {},
   "outputs": [
    {
     "data": {
      "image/png": "[encoded data removed]",
      "text/plain": [
       "<Figure size 540x540 with 12 Axes>"
      ]
     },
     "metadata": {
      "needs_background": "light"
     },
     "output_type": "display_data"
    }
   ],
   "source": [
    "sns.pairplot(data[['Urban (%)', 'Life expectancy', 'GDP per capita']]);"
   ]
  },
  {
   "cell_type": "markdown",
   "metadata": {},
   "source": [
    "U ova tri slučaja podaci su jako korelirani. U slučaju odnosa BDP per capita i očekivanja trajanja života imamo klasičan primjer kada je odnos monoton (rastući) ali nije linearan. U tom slučaju se ne vidi taj odnos iz Pearsonovog koeficijenta korelacije koji iznosi 0.6548, ali je zato Spearmanov koeficijent korelacije jednak 0.8987.\n",
    "\n",
    "U interpreataciji rezultata važno je prisjetiti se da korelacija [ne implicira](https://www.mathtutordvd.com/public/Why-Correlation-does-not-Imply-Causation-in-Statistics.cfm) kauzalnost (uzročnost). Pogledajmo to na primjeru korelacije postotka gradskog stanovništva i duljine života. Ljudi (najvjerojatnije) ne žive u prosjeku dulje jer žive u gradovima niti duljina života ne rezultira preseljenjem sa sela u grad, već postoji neki drugi faktor (npr. razvijenost zemlje) koji implicira poklapanje ova dva faktora. Međutim, korelacija može ukazivati na uzročnost. U primjeru BDP-a per capita i duljine života, moguće je da zahvaljujući većem bogatstvu države, bolji zdravstveni sustav produljuje životni vijek stanovništva. Zato su potrebne dodatne analize prije nego što se donosi zaključak. [Ovdje](http://www.tylervigen.com/spurious-correlations) se mogu pronaći zanimljivi primjeri korelacija koji su rezultat slučajnosti."
   ]
  },
  {
   "cell_type": "markdown",
   "metadata": {},
   "source": [
    "### Linearna regresija\n",
    "\n",
    "Radim linearnu regresiju odnosa BDP-a per capita i duljine trajanja života. Iz dijagrama raspršenja vidim da bi bilo dobro logaritmirati podatke o BDPu per capita kako bih dobio linearan odnos."
   ]
  },
  {
   "cell_type": "code",
   "execution_count": 205,
   "metadata": {},
   "outputs": [
    {
     "data": {
      "text/html": [
       "<table class=\"simpletable\">\n",
       "<caption>OLS Regression Results</caption>\n",
       "<tr>\n",
       "  <th>Dep. Variable:</th>            <td>y</td>        <th>  R-squared:         </th> <td>   0.741</td>\n",
       "</tr>\n",
       "<tr>\n",
       "  <th>Model:</th>                   <td>OLS</td>       <th>  Adj. R-squared:    </th> <td>   0.738</td>\n",
       "</tr>\n",
       "<tr>\n",
       "  <th>Method:</th>             <td>Least Squares</td>  <th>  F-statistic:       </th> <td>   311.3</td>\n",
       "</tr>\n",
       "<tr>\n",
       "  <th>Date:</th>             <td>Sun, 19 Apr 2020</td> <th>  Prob (F-statistic):</th> <td>1.01e-33</td>\n",
       "</tr>\n",
       "<tr>\n",
       "  <th>Time:</th>                 <td>18:29:45</td>     <th>  Log-Likelihood:    </th> <td> -330.78</td>\n",
       "</tr>\n",
       "<tr>\n",
       "  <th>No. Observations:</th>      <td>   111</td>      <th>  AIC:               </th> <td>   665.6</td>\n",
       "</tr>\n",
       "<tr>\n",
       "  <th>Df Residuals:</th>          <td>   109</td>      <th>  BIC:               </th> <td>   671.0</td>\n",
       "</tr>\n",
       "<tr>\n",
       "  <th>Df Model:</th>              <td>     1</td>      <th>                     </th>     <td> </td>   \n",
       "</tr>\n",
       "<tr>\n",
       "  <th>Covariance Type:</th>      <td>nonrobust</td>    <th>                     </th>     <td> </td>   \n",
       "</tr>\n",
       "</table>\n",
       "<table class=\"simpletable\">\n",
       "<tr>\n",
       "    <td></td>       <th>coef</th>     <th>std err</th>      <th>t</th>      <th>P>|t|</th>  <th>[0.025</th>    <th>0.975]</th>  \n",
       "</tr>\n",
       "<tr>\n",
       "  <th>const</th> <td>   25.7964</td> <td>    2.567</td> <td>   10.049</td> <td> 0.000</td> <td>   20.708</td> <td>   30.884</td>\n",
       "</tr>\n",
       "<tr>\n",
       "  <th>x1</th>    <td>    5.1524</td> <td>    0.292</td> <td>   17.642</td> <td> 0.000</td> <td>    4.574</td> <td>    5.731</td>\n",
       "</tr>\n",
       "</table>\n",
       "<table class=\"simpletable\">\n",
       "<tr>\n",
       "  <th>Omnibus:</th>       <td>37.440</td> <th>  Durbin-Watson:     </th> <td>   2.173</td>\n",
       "</tr>\n",
       "<tr>\n",
       "  <th>Prob(Omnibus):</th> <td> 0.000</td> <th>  Jarque-Bera (JB):  </th> <td>  83.691</td>\n",
       "</tr>\n",
       "<tr>\n",
       "  <th>Skew:</th>          <td>-1.321</td> <th>  Prob(JB):          </th> <td>6.71e-19</td>\n",
       "</tr>\n",
       "<tr>\n",
       "  <th>Kurtosis:</th>      <td> 6.334</td> <th>  Cond. No.          </th> <td>    50.1</td>\n",
       "</tr>\n",
       "</table><br/><br/>Warnings:<br/>[1] Standard Errors assume that the covariance matrix of the errors is correctly specified."
      ],
      "text/plain": [
       "<class 'statsmodels.iolib.summary.Summary'>\n",
       "\"\"\"\n",
       "                            OLS Regression Results                            \n",
       "==============================================================================\n",
       "Dep. Variable:                      y   R-squared:                       0.741\n",
       "Model:                            OLS   Adj. R-squared:                  0.738\n",
       "Method:                 Least Squares   F-statistic:                     311.3\n",
       "Date:                Sun, 19 Apr 2020   Prob (F-statistic):           1.01e-33\n",
       "Time:                        18:29:45   Log-Likelihood:                -330.78\n",
       "No. Observations:                 111   AIC:                             665.6\n",
       "Df Residuals:                     109   BIC:                             671.0\n",
       "Df Model:                           1                                         \n",
       "Covariance Type:            nonrobust                                         \n",
       "==============================================================================\n",
       "                 coef    std err          t      P>|t|      [0.025      0.975]\n",
       "------------------------------------------------------------------------------\n",
       "const         25.7964      2.567     10.049      0.000      20.708      30.884\n",
       "x1             5.1524      0.292     17.642      0.000       4.574       5.731\n",
       "==============================================================================\n",
       "Omnibus:                       37.440   Durbin-Watson:                   2.173\n",
       "Prob(Omnibus):                  0.000   Jarque-Bera (JB):               83.691\n",
       "Skew:                          -1.321   Prob(JB):                     6.71e-19\n",
       "Kurtosis:                       6.334   Cond. No.                         50.1\n",
       "==============================================================================\n",
       "\n",
       "Warnings:\n",
       "[1] Standard Errors assume that the covariance matrix of the errors is correctly specified.\n",
       "\"\"\""
      ]
     },
     "execution_count": 205,
     "metadata": {},
     "output_type": "execute_result"
    }
   ],
   "source": [
    "import statsmodels.api as sm\n",
    "x = np.log(data['GDP per capita']).values.reshape(-1,1)\n",
    "y = data['Life expectancy'].values.reshape(-1, 1)\n",
    "x = sm.add_constant(x)\n",
    "\n",
    "model = sm.OLS(y, x)\n",
    "res=model.fit()\n",
    "res.summary()"
   ]
  },
  {
   "cell_type": "markdown",
   "metadata": {},
   "source": [
    "Iz tablice rezultata vidim da je F-statistika jednaka 311.3,a p-vrijednost jako mala pa je model značajan. Koeficijent determinacije iznosi 74% što znači da je 74% varijabilnosti objašnjeno ovim modelom. Koeficijenti u modelu su značajni."
   ]
  },
  {
   "cell_type": "code",
   "execution_count": 206,
   "metadata": {},
   "outputs": [
    {
     "data": {
      "text/plain": [
       "'y = 25.7964 + 5.1524*x'"
      ]
     },
     "execution_count": 206,
     "metadata": {},
     "output_type": "execute_result"
    }
   ],
   "source": [
    "'y = {} + {}*x'.format(res.params[0].round(4), res.params[1].round(4))"
   ]
  },
  {
   "cell_type": "markdown",
   "metadata": {},
   "source": [
    "Za linearni regresijski model važno je provjeriti pretpostavku da su reziduali normalno distribuirani, te nacrtati model kako bi provjerili je li model dobar. Naime, može se dogoditi da su gornji pokazatelji dobri, ali da model nije dobar."
   ]
  },
  {
   "cell_type": "code",
   "execution_count": 207,
   "metadata": {},
   "outputs": [
    {
     "data": {
      "image/png": "[encoded data removed]",
      "text/plain": [
       "<Figure size 1080x360 with 2 Axes>"
      ]
     },
     "metadata": {
      "needs_background": "light"
     },
     "output_type": "display_data"
    }
   ],
   "source": [
    "fig, ax=plt.subplots(1,2, figsize=(15,5))\n",
    "sns.residplot(x[:,1], y, ax=ax[0]);\n",
    "ax[0].set_title(\"Graf reziduala\")\n",
    "ax[0].set_xlabel(\"log(GDP per capita)\")\n",
    "ax[0].set_ylabel(\"Reziduali\")\n",
    "\n",
    "sns.regplot(x[:,1], y,ax=ax[1]);\n",
    "ax[1].set_title(\"Linearni regresijiski model\")\n",
    "ax[1].set_xlabel(\"log(GDP per capita)\")\n",
    "ax[1].set_ylabel(\"Duljina života\");"
   ]
  },
  {
   "cell_type": "markdown",
   "metadata": {},
   "source": [
    "Iz grafa rezuduala vidim da su reziduali uglavnom nasumično raspoređeni. Međutim, negativni reziduali imaju veći raspon od pozitivnih. Ovakav graf može ukazivati na to da reziduali nisu normalno distribuirani oko 0 s istim varijancama."
   ]
  },
  {
   "cell_type": "code",
   "execution_count": 208,
   "metadata": {},
   "outputs": [
    {
     "data": {
      "image/png": "[encoded data removed]",
      "text/plain": [
       "<Figure size 1080x360 with 1 Axes>"
      ]
     },
     "metadata": {
      "needs_background": "light"
     },
     "output_type": "display_data"
    }
   ],
   "source": [
    "fig, ax=plt.subplots(1,1, figsize=(15,5))\n",
    "ax.scatter(data[\"GDP per capita\"], data[\"Life expectancy\"]);\n",
    "x = np.linspace(30, data[\"GDP per capita\"].max())\n",
    "y = 25.7964 + 5.1524*np.log(x)\n",
    "ax.plot(x,y);\n",
    "ax.set_xlabel(\"GDP per capita\");\n",
    "ax.set_ylabel(\"Life expectancy\");"
   ]
  },
  {
   "cell_type": "markdown",
   "metadata": {},
   "source": [
    "Nactajmo dobivenu krivulju procjene sa originalnim podacima. Ovo crtam u grafu kojem se može zoomirati i pogledati imena država na koje se dana točkica odnosi."
   ]
  },
  {
   "cell_type": "code",
   "execution_count": 209,
   "metadata": {},
   "outputs": [
    {
     "data": {
      "application/vnd.plotly.v1+json": {
       "config": {
        "plotlyServerURL": "https://plot.ly"
       },
       "data": [
        {
         "mode": "markers",
         "text": [
          "Afghanistan",
          "Albania",
          "Argentina",
          "Armenia",
          "Australia",
          "Austria",
          "Azerbaijan",
          "Bahrain",
          "Bangladesh",
          "Barbados",
          "Belarus",
          "Belgium",
          "Benin",
          "Bhutan",
          "Bolivia (Plurin. State of)",
          "Brazil",
          "Brunei Darussalam",
          "Bulgaria",
          "Burundi",
          "Cabo Verde",
          "Cambodia",
          "Cameroon",
          "Canada",
          "Chad",
          "Colombia",
          "Croatia",
          "Cyprus",
          "Czechia",
          "Côte d’Ivoire",
          "Dem. Rep. of the Congo",
          "Denmark",
          "El Salvador",
          "Estonia",
          "Eswatini",
          "Ethiopia",
          "Fiji",
          "Finland",
          "France",
          "Gambia",
          "Germany",
          "Ghana",
          "Guatemala",
          "Guinea",
          "Guinea-Bissau",
          "Guyana",
          "Honduras",
          "Hungary",
          "Iceland",
          "Indonesia",
          "Iran (Islamic Republic of)",
          "Ireland",
          "Israel",
          "Italy",
          "Jamaica",
          "Japan",
          "Jordan",
          "Kazakhstan",
          "Kenya",
          "Kyrgyzstan",
          "Lao People's Dem. Rep.",
          "Latvia",
          "Lebanon",
          "Lesotho",
          "Lithuania",
          "Luxembourg",
          "Madagascar",
          "Malawi",
          "Malaysia",
          "Maldives",
          "Mali",
          "Malta",
          "Mexico",
          "Mongolia",
          "Mozambique",
          "Myanmar",
          "Namibia",
          "Nepal",
          "Netherlands",
          "Niger",
          "Norway",
          "Oman",
          "Peru",
          "Poland",
          "Portugal",
          "Qatar",
          "Republic of Moldova",
          "Romania",
          "Russian Federation",
          "Rwanda",
          "Senegal",
          "Serbia",
          "Seychelles",
          "Sierra Leone",
          "Slovakia",
          "Slovenia",
          "South Africa",
          "South Sudan",
          "Spain",
          "Sri Lanka",
          "Sweden",
          "Switzerland",
          "Thailand",
          "Timor-Leste",
          "Togo",
          "Turkey",
          "Uganda",
          "United Kingdom",
          "United States of America",
          "Uruguay",
          "Vanuatu",
          "Viet Nam"
         ],
         "type": "scatter",
         "x": [
          593,
          4115.5,
          13063.25,
          3648.25,
          55678.5,
          45885.25,
          4854,
          22423.25,
          1200.75,
          15963.5,
          5694.5,
          42308.25,
          792.75,
          2685.25,
          2892.25,
          9607.25,
          30366.25,
          7378,
          268.75,
          3158.75,
          1150.25,
          1376.5,
          44364.5,
          809.5,
          6088.75,
          12738,
          25988.25,
          19005.75,
          1427,
          451.75,
          55831.75,
          3580.25,
          17343,
          3183,
          584.75,
          4753.5,
          44423.75,
          38094,
          743.25,
          42817.25,
          1879,
          3840.25,
          716.5,
          627.75,
          4058,
          2282.25,
          13265.5,
          57651.5,
          3466.25,
          5630.75,
          60874.5,
          37543,
          32642,
          4912,
          38911.25,
          4043.25,
          8951,
          1323.25,
          1104.5,
          2031.5,
          13608,
          8676.5,
          1134.75,
          14318,
          103730.5,
          481.75,
          363.25,
          9548,
          9598,
          765,
          25268,
          8933,
          3478,
          437.75,
          1124.25,
          4946.5,
          724.75,
          47700.25,
          364.5,
          77038.75,
          16334.5,
          5919.5,
          12780.75,
          19638.5,
          64870.75,
          1676.25,
          9340.75,
          10036.75,
          683.5,
          1261.25,
          5496.75,
          14037.5,
          500.75,
          16688,
          22257.75,
          6112.5,
          906.25,
          27874,
          3703.75,
          52298.25,
          79029.75,
          5873.75,
          2593,
          573.25,
          10766.5,
          616,
          40803.75,
          55910.25,
          14970.25,
          2985,
          1972
         ],
         "y": [
          60.9765,
          76.56299999999999,
          75.2715,
          73.36349999999999,
          81.9195,
          80.55799999999999,
          70.8315,
          76.0495,
          69.813,
          78.3575,
          70.85249999999999,
          80.047,
          59.24550000000001,
          68.228,
          67.938,
          73.571,
          74.715,
          73.6945,
          57.092,
          71.08850000000001,
          66.36449999999999,
          55.125,
          81.274,
          50.891000000000005,
          75.4105,
          76.77199999999999,
          79.4445,
          77.5735,
          53.0215,
          56.7915,
          79.3625,
          71.2175,
          75.2705,
          47.2555,
          61.38849999999999,
          66.664,
          80.12100000000001,
          81.4455,
          59.585,
          80.0885,
          60.974000000000004,
          71.472,
          56.780499999999996,
          54.622,
          68.031,
          73.297,
          74.4975,
          81.7895,
          69.166,
          73.882,
          80.148,
          81.42150000000001,
          81.93350000000001,
          74.0635,
          82.987,
          73.4045,
          67.5715,
          60.702999999999996,
          68.87299999999999,
          64.2405,
          72.8425,
          78.214,
          45.6105,
          72.92949999999999,
          80.32499999999999,
          63.3665,
          55.436499999999995,
          74.494,
          75.81700000000001,
          55.12949999999999,
          80.8695,
          75.05850000000001,
          67.3035,
          52.650999999999996,
          63.56,
          56.70399999999999,
          67.5385,
          80.7415,
          57.245999999999995,
          81.10400000000001,
          75.64,
          74.38499999999999,
          76.35249999999999,
          79.95150000000001,
          79.08449999999999,
          69.62,
          74.0095,
          68.707,
          62.909000000000006,
          64.1445,
          74.0945,
          72.83099999999999,
          49.203500000000005,
          75.501,
          79.3475,
          57.826499999999996,
          54.670500000000004,
          81.864,
          75.411,
          81.49199999999999,
          82.236,
          74.164,
          66.9145,
          57.438500000000005,
          74.481,
          56.9345,
          80.2765,
          78.56649999999999,
          76.7125,
          69.1155,
          74.7775
         ]
        },
        {
         "mode": "lines",
         "type": "scatter",
         "x": [
          30,
          2146.3367346938776,
          4262.673469387755,
          6379.010204081633,
          8495.34693877551,
          10611.683673469388,
          12728.020408163266,
          14844.357142857143,
          16960.69387755102,
          19077.030612244896,
          21193.367346938776,
          23309.704081632655,
          25426.04081632653,
          27542.377551020407,
          29658.714285714286,
          31775.051020408166,
          33891.38775510204,
          36007.72448979592,
          38124.06122448979,
          40240.397959183676,
          42356.73469387755,
          44473.07142857143,
          46589.40816326531,
          48705.744897959186,
          50822.08163265306,
          52938.41836734694,
          55054.755102040814,
          57171.0918367347,
          59287.42857142857,
          61403.76530612245,
          63520.10204081633,
          65636.4387755102,
          67752.77551020408,
          69869.11224489796,
          71985.44897959183,
          74101.78571428571,
          76218.12244897959,
          78334.45918367348,
          80450.79591836735,
          82567.13265306123,
          84683.4693877551,
          86799.80612244898,
          88916.14285714286,
          91032.47959183673,
          93148.81632653062,
          95265.1530612245,
          97381.48979591837,
          99497.82653061225,
          101614.16326530612,
          103730.5
         ],
         "y": [
          43.32072938927609,
          65.32312843431468,
          68.85836522394212,
          70.93538219670509,
          72.41157390645182,
          73.55765847430621,
          74.49462378994599,
          75.28713457062244,
          75.97383994783794,
          76.57969254543076,
          77.12174175070624,
          77.61215484083752,
          78.05991962753521,
          78.47186401647119,
          78.85329704862502,
          79.20842846201447,
          79.5406526936492,
          79.85274670548286,
          80.14701122556698,
          80.42537378005375,
          80.6894652857516,
          80.94067794898274,
          81.180209691876,
          81.40909870133501,
          81.62825062410846,
          81.83846020988386,
          82.04042870936286,
          82.23477798884582,
          82.4220620779779,
          82.602776691211,
          82.77736713521777,
          82.94623491984981,
          83.10974331963362,
          83.26822207958523,
          83.42197141862272,
          83.57126545274919,
          83.71635513608342,
          83.85747079900364,
          83.99482434787087,
          84.12861117907592,
          84.25901185080569,
          84.38619354842396,
          84.51031137330574,
          84.63150948005008,
          84.74992208298461,
          84.86567434958546,
          84.97888319572463,
          85.08965799541207,
          85.19810121583274,
          85.30430898692057
         ]
        }
       ],
       "layout": {
        "template": {
         "data": {
          "bar": [
           {
            "error_x": {
             "color": "#2a3f5f"
            },
            "error_y": {
             "color": "#2a3f5f"
            },
            "marker": {
             "line": {
              "color": "#E5ECF6",
              "width": 0.5
             }
            },
            "type": "bar"
           }
          ],
          "barpolar": [
           {
            "marker": {
             "line": {
              "color": "#E5ECF6",
              "width": 0.5
             }
            },
            "type": "barpolar"
           }
          ],
          "carpet": [
           {
            "aaxis": {
             "endlinecolor": "#2a3f5f",
             "gridcolor": "white",
             "linecolor": "white",
             "minorgridcolor": "white",
             "startlinecolor": "#2a3f5f"
            },
            "baxis": {
             "endlinecolor": "#2a3f5f",
             "gridcolor": "white",
             "linecolor": "white",
             "minorgridcolor": "white",
             "startlinecolor": "#2a3f5f"
            },
            "type": "carpet"
           }
          ],
          "choropleth": [
           {
            "colorbar": {
             "outlinewidth": 0,
             "ticks": ""
            },
            "type": "choropleth"
           }
          ],
          "contour": [
           {
            "colorbar": {
             "outlinewidth": 0,
             "ticks": ""
            },
            "colorscale": [
             [
              0,
              "#0d0887"
             ],
             [
              0.1111111111111111,
              "#46039f"
             ],
             [
              0.2222222222222222,
              "#7201a8"
             ],
             [
              0.3333333333333333,
              "#9c179e"
             ],
             [
              0.4444444444444444,
              "#bd3786"
             ],
             [
              0.5555555555555556,
              "#d8576b"
             ],
             [
              0.6666666666666666,
              "#ed7953"
             ],
             [
              0.7777777777777778,
              "#fb9f3a"
             ],
             [
              0.8888888888888888,
              "#fdca26"
             ],
             [
              1,
              "#f0f921"
             ]
            ],
            "type": "contour"
           }
          ],
          "contourcarpet": [
           {
            "colorbar": {
             "outlinewidth": 0,
             "ticks": ""
            },
            "type": "contourcarpet"
           }
          ],
          "heatmap": [
           {
            "colorbar": {
             "outlinewidth": 0,
             "ticks": ""
            },
            "colorscale": [
             [
              0,
              "#0d0887"
             ],
             [
              0.1111111111111111,
              "#46039f"
             ],
             [
              0.2222222222222222,
              "#7201a8"
             ],
             [
              0.3333333333333333,
              "#9c179e"
             ],
             [
              0.4444444444444444,
              "#bd3786"
             ],
             [
              0.5555555555555556,
              "#d8576b"
             ],
             [
              0.6666666666666666,
              "#ed7953"
             ],
             [
              0.7777777777777778,
              "#fb9f3a"
             ],
             [
              0.8888888888888888,
              "#fdca26"
             ],
             [
              1,
              "#f0f921"
             ]
            ],
            "type": "heatmap"
           }
          ],
          "heatmapgl": [
           {
            "colorbar": {
             "outlinewidth": 0,
             "ticks": ""
            },
            "colorscale": [
             [
              0,
              "#0d0887"
             ],
             [
              0.1111111111111111,
              "#46039f"
             ],
             [
              0.2222222222222222,
              "#7201a8"
             ],
             [
              0.3333333333333333,
              "#9c179e"
             ],
             [
              0.4444444444444444,
              "#bd3786"
             ],
             [
              0.5555555555555556,
              "#d8576b"
             ],
             [
              0.6666666666666666,
              "#ed7953"
             ],
             [
              0.7777777777777778,
              "#fb9f3a"
             ],
             [
              0.8888888888888888,
              "#fdca26"
             ],
             [
              1,
              "#f0f921"
             ]
            ],
            "type": "heatmapgl"
           }
          ],
          "histogram": [
           {
            "marker": {
             "colorbar": {
              "outlinewidth": 0,
              "ticks": ""
             }
            },
            "type": "histogram"
           }
          ],
          "histogram2d": [
           {
            "colorbar": {
             "outlinewidth": 0,
             "ticks": ""
            },
            "colorscale": [
             [
              0,
              "#0d0887"
             ],
             [
              0.1111111111111111,
              "#46039f"
             ],
             [
              0.2222222222222222,
              "#7201a8"
             ],
             [
              0.3333333333333333,
              "#9c179e"
             ],
             [
              0.4444444444444444,
              "#bd3786"
             ],
             [
              0.5555555555555556,
              "#d8576b"
             ],
             [
              0.6666666666666666,
              "#ed7953"
             ],
             [
              0.7777777777777778,
              "#fb9f3a"
             ],
             [
              0.8888888888888888,
              "#fdca26"
             ],
             [
              1,
              "#f0f921"
             ]
            ],
            "type": "histogram2d"
           }
          ],
          "histogram2dcontour": [
           {
            "colorbar": {
             "outlinewidth": 0,
             "ticks": ""
            },
            "colorscale": [
             [
              0,
              "#0d0887"
             ],
             [
              0.1111111111111111,
              "#46039f"
             ],
             [
              0.2222222222222222,
              "#7201a8"
             ],
             [
              0.3333333333333333,
              "#9c179e"
             ],
             [
              0.4444444444444444,
              "#bd3786"
             ],
             [
              0.5555555555555556,
              "#d8576b"
             ],
             [
              0.6666666666666666,
              "#ed7953"
             ],
             [
              0.7777777777777778,
              "#fb9f3a"
             ],
             [
              0.8888888888888888,
              "#fdca26"
             ],
             [
              1,
              "#f0f921"
             ]
            ],
            "type": "histogram2dcontour"
           }
          ],
          "mesh3d": [
           {
            "colorbar": {
             "outlinewidth": 0,
             "ticks": ""
            },
            "type": "mesh3d"
           }
          ],
          "parcoords": [
           {
            "line": {
             "colorbar": {
              "outlinewidth": 0,
              "ticks": ""
             }
            },
            "type": "parcoords"
           }
          ],
          "pie": [
           {
            "automargin": true,
            "type": "pie"
           }
          ],
          "scatter": [
           {
            "marker": {
             "colorbar": {
              "outlinewidth": 0,
              "ticks": ""
             }
            },
            "type": "scatter"
           }
          ],
          "scatter3d": [
           {
            "line": {
             "colorbar": {
              "outlinewidth": 0,
              "ticks": ""
             }
            },
            "marker": {
             "colorbar": {
              "outlinewidth": 0,
              "ticks": ""
             }
            },
            "type": "scatter3d"
           }
          ],
          "scattercarpet": [
           {
            "marker": {
             "colorbar": {
              "outlinewidth": 0,
              "ticks": ""
             }
            },
            "type": "scattercarpet"
           }
          ],
          "scattergeo": [
           {
            "marker": {
             "colorbar": {
              "outlinewidth": 0,
              "ticks": ""
             }
            },
            "type": "scattergeo"
           }
          ],
          "scattergl": [
           {
            "marker": {
             "colorbar": {
              "outlinewidth": 0,
              "ticks": ""
             }
            },
            "type": "scattergl"
           }
          ],
          "scattermapbox": [
           {
            "marker": {
             "colorbar": {
              "outlinewidth": 0,
              "ticks": ""
             }
            },
            "type": "scattermapbox"
           }
          ],
          "scatterpolar": [
           {
            "marker": {
             "colorbar": {
              "outlinewidth": 0,
              "ticks": ""
             }
            },
            "type": "scatterpolar"
           }
          ],
          "scatterpolargl": [
           {
            "marker": {
             "colorbar": {
              "outlinewidth": 0,
              "ticks": ""
             }
            },
            "type": "scatterpolargl"
           }
          ],
          "scatterternary": [
           {
            "marker": {
             "colorbar": {
              "outlinewidth": 0,
              "ticks": ""
             }
            },
            "type": "scatterternary"
           }
          ],
          "surface": [
           {
            "colorbar": {
             "outlinewidth": 0,
             "ticks": ""
            },
            "colorscale": [
             [
              0,
              "#0d0887"
             ],
             [
              0.1111111111111111,
              "#46039f"
             ],
             [
              0.2222222222222222,
              "#7201a8"
             ],
             [
              0.3333333333333333,
              "#9c179e"
             ],
             [
              0.4444444444444444,
              "#bd3786"
             ],
             [
              0.5555555555555556,
              "#d8576b"
             ],
             [
              0.6666666666666666,
              "#ed7953"
             ],
             [
              0.7777777777777778,
              "#fb9f3a"
             ],
             [
              0.8888888888888888,
              "#fdca26"
             ],
             [
              1,
              "#f0f921"
             ]
            ],
            "type": "surface"
           }
          ],
          "table": [
           {
            "cells": {
             "fill": {
              "color": "#EBF0F8"
             },
             "line": {
              "color": "white"
             }
            },
            "header": {
             "fill": {
              "color": "#C8D4E3"
             },
             "line": {
              "color": "white"
             }
            },
            "type": "table"
           }
          ]
         },
         "layout": {
          "annotationdefaults": {
           "arrowcolor": "#2a3f5f",
           "arrowhead": 0,
           "arrowwidth": 1
          },
          "coloraxis": {
           "colorbar": {
            "outlinewidth": 0,
            "ticks": ""
           }
          },
          "colorscale": {
           "diverging": [
            [
             0,
             "#8e0152"
            ],
            [
             0.1,
             "#c51b7d"
            ],
            [
             0.2,
             "#de77ae"
            ],
            [
             0.3,
             "#f1b6da"
            ],
            [
             0.4,
             "#fde0ef"
            ],
            [
             0.5,
             "#f7f7f7"
            ],
            [
             0.6,
             "#e6f5d0"
            ],
            [
             0.7,
             "#b8e186"
            ],
            [
             0.8,
             "#7fbc41"
            ],
            [
             0.9,
             "#4d9221"
            ],
            [
             1,
             "#276419"
            ]
           ],
           "sequential": [
            [
             0,
             "#0d0887"
            ],
            [
             0.1111111111111111,
             "#46039f"
            ],
            [
             0.2222222222222222,
             "#7201a8"
            ],
            [
             0.3333333333333333,
             "#9c179e"
            ],
            [
             0.4444444444444444,
             "#bd3786"
            ],
            [
             0.5555555555555556,
             "#d8576b"
            ],
            [
             0.6666666666666666,
             "#ed7953"
            ],
            [
             0.7777777777777778,
             "#fb9f3a"
            ],
            [
             0.8888888888888888,
             "#fdca26"
            ],
            [
             1,
             "#f0f921"
            ]
           ],
           "sequentialminus": [
            [
             0,
             "#0d0887"
            ],
            [
             0.1111111111111111,
             "#46039f"
            ],
            [
             0.2222222222222222,
             "#7201a8"
            ],
            [
             0.3333333333333333,
             "#9c179e"
            ],
            [
             0.4444444444444444,
             "#bd3786"
            ],
            [
             0.5555555555555556,
             "#d8576b"
            ],
            [
             0.6666666666666666,
             "#ed7953"
            ],
            [
             0.7777777777777778,
             "#fb9f3a"
            ],
            [
             0.8888888888888888,
             "#fdca26"
            ],
            [
             1,
             "#f0f921"
            ]
           ]
          },
          "colorway": [
           "#636efa",
           "#EF553B",
           "#00cc96",
           "#ab63fa",
           "#FFA15A",
           "#19d3f3",
           "#FF6692",
           "#B6E880",
           "#FF97FF",
           "#FECB52"
          ],
          "font": {
           "color": "#2a3f5f"
          },
          "geo": {
           "bgcolor": "white",
           "lakecolor": "white",
           "landcolor": "#E5ECF6",
           "showlakes": true,
           "showland": true,
           "subunitcolor": "white"
          },
          "hoverlabel": {
           "align": "left"
          },
          "hovermode": "closest",
          "mapbox": {
           "style": "light"
          },
          "paper_bgcolor": "white",
          "plot_bgcolor": "#E5ECF6",
          "polar": {
           "angularaxis": {
            "gridcolor": "white",
            "linecolor": "white",
            "ticks": ""
           },
           "bgcolor": "#E5ECF6",
           "radialaxis": {
            "gridcolor": "white",
            "linecolor": "white",
            "ticks": ""
           }
          },
          "scene": {
           "xaxis": {
            "backgroundcolor": "#E5ECF6",
            "gridcolor": "white",
            "gridwidth": 2,
            "linecolor": "white",
            "showbackground": true,
            "ticks": "",
            "zerolinecolor": "white"
           },
           "yaxis": {
            "backgroundcolor": "#E5ECF6",
            "gridcolor": "white",
            "gridwidth": 2,
            "linecolor": "white",
            "showbackground": true,
            "ticks": "",
            "zerolinecolor": "white"
           },
           "zaxis": {
            "backgroundcolor": "#E5ECF6",
            "gridcolor": "white",
            "gridwidth": 2,
            "linecolor": "white",
            "showbackground": true,
            "ticks": "",
            "zerolinecolor": "white"
           }
          },
          "shapedefaults": {
           "line": {
            "color": "#2a3f5f"
           }
          },
          "ternary": {
           "aaxis": {
            "gridcolor": "white",
            "linecolor": "white",
            "ticks": ""
           },
           "baxis": {
            "gridcolor": "white",
            "linecolor": "white",
            "ticks": ""
           },
           "bgcolor": "#E5ECF6",
           "caxis": {
            "gridcolor": "white",
            "linecolor": "white",
            "ticks": ""
           }
          },
          "title": {
           "x": 0.05
          },
          "xaxis": {
           "automargin": true,
           "gridcolor": "white",
           "linecolor": "white",
           "ticks": "",
           "title": {
            "standoff": 15
           },
           "zerolinecolor": "white",
           "zerolinewidth": 2
          },
          "yaxis": {
           "automargin": true,
           "gridcolor": "white",
           "linecolor": "white",
           "ticks": "",
           "title": {
            "standoff": 15
           },
           "zerolinecolor": "white",
           "zerolinewidth": 2
          }
         }
        },
        "title": {
         "text": "Dijagram raspršenja sa oznakama država"
        },
        "xaxis": {
         "title": {
          "text": "GDP per capita"
         }
        },
        "yaxis": {
         "title": {
          "text": "Life expectancy"
         }
        }
       }
      },
      "text/html": [
       "<div>\n",
       "        \n",
       "        \n",
       "            <div id=\"a635c750-6a72-44fc-82d1-3af8839bf4ad\" class=\"plotly-graph-div\" style=\"height:525px; width:100%;\"></div>\n",
       "            <script type=\"text/javascript\">\n",
       "                require([\"plotly\"], function(Plotly) {\n",
       "                    window.PLOTLYENV=window.PLOTLYENV || {};\n",
       "                    \n",
       "                if (document.getElementById(\"a635c750-6a72-44fc-82d1-3af8839bf4ad\")) {\n",
       "                    Plotly.newPlot(\n",
       "                        'a635c750-6a72-44fc-82d1-3af8839bf4ad',\n",
       "                        [{\"mode\": \"markers\", \"text\": [\"Afghanistan\", \"Albania\", \"Argentina\", \"Armenia\", \"Australia\", \"Austria\", \"Azerbaijan\", \"Bahrain\", \"Bangladesh\", \"Barbados\", \"Belarus\", \"Belgium\", \"Benin\", \"Bhutan\", \"Bolivia (Plurin. State of)\", \"Brazil\", \"Brunei Darussalam\", \"Bulgaria\", \"Burundi\", \"Cabo Verde\", \"Cambodia\", \"Cameroon\", \"Canada\", \"Chad\", \"Colombia\", \"Croatia\", \"Cyprus\", \"Czechia\", \"C\\u00f4te d\\u2019Ivoire\", \"Dem. Rep. of the Congo\", \"Denmark\", \"El Salvador\", \"Estonia\", \"Eswatini\", \"Ethiopia\", \"Fiji\", \"Finland\", \"France\", \"Gambia\", \"Germany\", \"Ghana\", \"Guatemala\", \"Guinea\", \"Guinea-Bissau\", \"Guyana\", \"Honduras\", \"Hungary\", \"Iceland\", \"Indonesia\", \"Iran (Islamic Republic of)\", \"Ireland\", \"Israel\", \"Italy\", \"Jamaica\", \"Japan\", \"Jordan\", \"Kazakhstan\", \"Kenya\", \"Kyrgyzstan\", \"Lao People's Dem. Rep.\", \"Latvia\", \"Lebanon\", \"Lesotho\", \"Lithuania\", \"Luxembourg\", \"Madagascar\", \"Malawi\", \"Malaysia\", \"Maldives\", \"Mali\", \"Malta\", \"Mexico\", \"Mongolia\", \"Mozambique\", \"Myanmar\", \"Namibia\", \"Nepal\", \"Netherlands\", \"Niger\", \"Norway\", \"Oman\", \"Peru\", \"Poland\", \"Portugal\", \"Qatar\", \"Republic of Moldova\", \"Romania\", \"Russian Federation\", \"Rwanda\", \"Senegal\", \"Serbia\", \"Seychelles\", \"Sierra Leone\", \"Slovakia\", \"Slovenia\", \"South Africa\", \"South Sudan\", \"Spain\", \"Sri Lanka\", \"Sweden\", \"Switzerland\", \"Thailand\", \"Timor-Leste\", \"Togo\", \"Turkey\", \"Uganda\", \"United Kingdom\", \"United States of America\", \"Uruguay\", \"Vanuatu\", \"Viet Nam\"], \"type\": \"scatter\", \"x\": [593.0, 4115.5, 13063.25, 3648.25, 55678.5, 45885.25, 4854.0, 22423.25, 1200.75, 15963.5, 5694.5, 42308.25, 792.75, 2685.25, 2892.25, 9607.25, 30366.25, 7378.0, 268.75, 3158.75, 1150.25, 1376.5, 44364.5, 809.5, 6088.75, 12738.0, 25988.25, 19005.75, 1427.0, 451.75, 55831.75, 3580.25, 17343.0, 3183.0, 584.75, 4753.5, 44423.75, 38094.0, 743.25, 42817.25, 1879.0, 3840.25, 716.5, 627.75, 4058.0, 2282.25, 13265.5, 57651.5, 3466.25, 5630.75, 60874.5, 37543.0, 32642.0, 4912.0, 38911.25, 4043.25, 8951.0, 1323.25, 1104.5, 2031.5, 13608.0, 8676.5, 1134.75, 14318.0, 103730.5, 481.75, 363.25, 9548.0, 9598.0, 765.0, 25268.0, 8933.0, 3478.0, 437.75, 1124.25, 4946.5, 724.75, 47700.25, 364.5, 77038.75, 16334.5, 5919.5, 12780.75, 19638.5, 64870.75, 1676.25, 9340.75, 10036.75, 683.5, 1261.25, 5496.75, 14037.5, 500.75, 16688.0, 22257.75, 6112.5, 906.25, 27874.0, 3703.75, 52298.25, 79029.75, 5873.75, 2593.0, 573.25, 10766.5, 616.0, 40803.75, 55910.25, 14970.25, 2985.0, 1972.0], \"y\": [60.9765, 76.56299999999999, 75.2715, 73.36349999999999, 81.9195, 80.55799999999999, 70.8315, 76.0495, 69.813, 78.3575, 70.85249999999999, 80.047, 59.24550000000001, 68.228, 67.938, 73.571, 74.715, 73.6945, 57.092, 71.08850000000001, 66.36449999999999, 55.125, 81.274, 50.891000000000005, 75.4105, 76.77199999999999, 79.4445, 77.5735, 53.0215, 56.7915, 79.3625, 71.2175, 75.2705, 47.2555, 61.38849999999999, 66.664, 80.12100000000001, 81.4455, 59.585, 80.0885, 60.974000000000004, 71.472, 56.780499999999996, 54.622, 68.031, 73.297, 74.4975, 81.7895, 69.166, 73.882, 80.148, 81.42150000000001, 81.93350000000001, 74.0635, 82.987, 73.4045, 67.5715, 60.702999999999996, 68.87299999999999, 64.2405, 72.8425, 78.214, 45.6105, 72.92949999999999, 80.32499999999999, 63.3665, 55.436499999999995, 74.494, 75.81700000000001, 55.12949999999999, 80.8695, 75.05850000000001, 67.3035, 52.650999999999996, 63.56, 56.70399999999999, 67.5385, 80.7415, 57.245999999999995, 81.10400000000001, 75.64, 74.38499999999999, 76.35249999999999, 79.95150000000001, 79.08449999999999, 69.62, 74.0095, 68.707, 62.909000000000006, 64.1445, 74.0945, 72.83099999999999, 49.203500000000005, 75.501, 79.3475, 57.826499999999996, 54.670500000000004, 81.864, 75.411, 81.49199999999999, 82.236, 74.164, 66.9145, 57.438500000000005, 74.481, 56.9345, 80.2765, 78.56649999999999, 76.7125, 69.1155, 74.7775]}, {\"mode\": \"lines\", \"type\": \"scatter\", \"x\": [30.0, 2146.3367346938776, 4262.673469387755, 6379.010204081633, 8495.34693877551, 10611.683673469388, 12728.020408163266, 14844.357142857143, 16960.69387755102, 19077.030612244896, 21193.367346938776, 23309.704081632655, 25426.04081632653, 27542.377551020407, 29658.714285714286, 31775.051020408166, 33891.38775510204, 36007.72448979592, 38124.06122448979, 40240.397959183676, 42356.73469387755, 44473.07142857143, 46589.40816326531, 48705.744897959186, 50822.08163265306, 52938.41836734694, 55054.755102040814, 57171.0918367347, 59287.42857142857, 61403.76530612245, 63520.10204081633, 65636.4387755102, 67752.77551020408, 69869.11224489796, 71985.44897959183, 74101.78571428571, 76218.12244897959, 78334.45918367348, 80450.79591836735, 82567.13265306123, 84683.4693877551, 86799.80612244898, 88916.14285714286, 91032.47959183673, 93148.81632653062, 95265.1530612245, 97381.48979591837, 99497.82653061225, 101614.16326530612, 103730.5], \"y\": [43.32072938927609, 65.32312843431468, 68.85836522394212, 70.93538219670509, 72.41157390645182, 73.55765847430621, 74.49462378994599, 75.28713457062244, 75.97383994783794, 76.57969254543076, 77.12174175070624, 77.61215484083752, 78.05991962753521, 78.47186401647119, 78.85329704862502, 79.20842846201447, 79.5406526936492, 79.85274670548286, 80.14701122556698, 80.42537378005375, 80.6894652857516, 80.94067794898274, 81.180209691876, 81.40909870133501, 81.62825062410846, 81.83846020988386, 82.04042870936286, 82.23477798884582, 82.4220620779779, 82.602776691211, 82.77736713521777, 82.94623491984981, 83.10974331963362, 83.26822207958523, 83.42197141862272, 83.57126545274919, 83.71635513608342, 83.85747079900364, 83.99482434787087, 84.12861117907592, 84.25901185080569, 84.38619354842396, 84.51031137330574, 84.63150948005008, 84.74992208298461, 84.86567434958546, 84.97888319572463, 85.08965799541207, 85.19810121583274, 85.30430898692057]}],\n",
       "                        {\"template\": {\"data\": {\"bar\": [{\"error_x\": {\"color\": \"#2a3f5f\"}, \"error_y\": {\"color\": \"#2a3f5f\"}, \"marker\": {\"line\": {\"color\": \"#E5ECF6\", \"width\": 0.5}}, \"type\": \"bar\"}], \"barpolar\": [{\"marker\": {\"line\": {\"color\": \"#E5ECF6\", \"width\": 0.5}}, \"type\": \"barpolar\"}], \"carpet\": [{\"aaxis\": {\"endlinecolor\": \"#2a3f5f\", \"gridcolor\": \"white\", \"linecolor\": \"white\", \"minorgridcolor\": \"white\", \"startlinecolor\": \"#2a3f5f\"}, \"baxis\": {\"endlinecolor\": \"#2a3f5f\", \"gridcolor\": \"white\", \"linecolor\": \"white\", \"minorgridcolor\": \"white\", \"startlinecolor\": \"#2a3f5f\"}, \"type\": \"carpet\"}], \"choropleth\": [{\"colorbar\": {\"outlinewidth\": 0, \"ticks\": \"\"}, \"type\": \"choropleth\"}], \"contour\": [{\"colorbar\": {\"outlinewidth\": 0, \"ticks\": \"\"}, \"colorscale\": [[0.0, \"#0d0887\"], [0.1111111111111111, \"#46039f\"], [0.2222222222222222, \"#7201a8\"], [0.3333333333333333, \"#9c179e\"], [0.4444444444444444, \"#bd3786\"], [0.5555555555555556, \"#d8576b\"], [0.6666666666666666, \"#ed7953\"], [0.7777777777777778, \"#fb9f3a\"], [0.8888888888888888, \"#fdca26\"], [1.0, \"#f0f921\"]], \"type\": \"contour\"}], \"contourcarpet\": [{\"colorbar\": {\"outlinewidth\": 0, \"ticks\": \"\"}, \"type\": \"contourcarpet\"}], \"heatmap\": [{\"colorbar\": {\"outlinewidth\": 0, \"ticks\": \"\"}, \"colorscale\": [[0.0, \"#0d0887\"], [0.1111111111111111, \"#46039f\"], [0.2222222222222222, \"#7201a8\"], [0.3333333333333333, \"#9c179e\"], [0.4444444444444444, \"#bd3786\"], [0.5555555555555556, \"#d8576b\"], [0.6666666666666666, \"#ed7953\"], [0.7777777777777778, \"#fb9f3a\"], [0.8888888888888888, \"#fdca26\"], [1.0, \"#f0f921\"]], \"type\": \"heatmap\"}], \"heatmapgl\": [{\"colorbar\": {\"outlinewidth\": 0, \"ticks\": \"\"}, \"colorscale\": [[0.0, \"#0d0887\"], [0.1111111111111111, \"#46039f\"], [0.2222222222222222, \"#7201a8\"], [0.3333333333333333, \"#9c179e\"], [0.4444444444444444, \"#bd3786\"], [0.5555555555555556, \"#d8576b\"], [0.6666666666666666, \"#ed7953\"], [0.7777777777777778, \"#fb9f3a\"], [0.8888888888888888, \"#fdca26\"], [1.0, \"#f0f921\"]], \"type\": \"heatmapgl\"}], \"histogram\": [{\"marker\": {\"colorbar\": {\"outlinewidth\": 0, \"ticks\": \"\"}}, \"type\": \"histogram\"}], \"histogram2d\": [{\"colorbar\": {\"outlinewidth\": 0, \"ticks\": \"\"}, \"colorscale\": [[0.0, \"#0d0887\"], [0.1111111111111111, \"#46039f\"], [0.2222222222222222, \"#7201a8\"], [0.3333333333333333, \"#9c179e\"], [0.4444444444444444, \"#bd3786\"], [0.5555555555555556, \"#d8576b\"], [0.6666666666666666, \"#ed7953\"], [0.7777777777777778, \"#fb9f3a\"], [0.8888888888888888, \"#fdca26\"], [1.0, \"#f0f921\"]], \"type\": \"histogram2d\"}], \"histogram2dcontour\": [{\"colorbar\": {\"outlinewidth\": 0, \"ticks\": \"\"}, \"colorscale\": [[0.0, \"#0d0887\"], [0.1111111111111111, \"#46039f\"], [0.2222222222222222, \"#7201a8\"], [0.3333333333333333, \"#9c179e\"], [0.4444444444444444, \"#bd3786\"], [0.5555555555555556, \"#d8576b\"], [0.6666666666666666, \"#ed7953\"], [0.7777777777777778, \"#fb9f3a\"], [0.8888888888888888, \"#fdca26\"], [1.0, \"#f0f921\"]], \"type\": \"histogram2dcontour\"}], \"mesh3d\": [{\"colorbar\": {\"outlinewidth\": 0, \"ticks\": \"\"}, \"type\": \"mesh3d\"}], \"parcoords\": [{\"line\": {\"colorbar\": {\"outlinewidth\": 0, \"ticks\": \"\"}}, \"type\": \"parcoords\"}], \"pie\": [{\"automargin\": true, \"type\": \"pie\"}], \"scatter\": [{\"marker\": {\"colorbar\": {\"outlinewidth\": 0, \"ticks\": \"\"}}, \"type\": \"scatter\"}], \"scatter3d\": [{\"line\": {\"colorbar\": {\"outlinewidth\": 0, \"ticks\": \"\"}}, \"marker\": {\"colorbar\": {\"outlinewidth\": 0, \"ticks\": \"\"}}, \"type\": \"scatter3d\"}], \"scattercarpet\": [{\"marker\": {\"colorbar\": {\"outlinewidth\": 0, \"ticks\": \"\"}}, \"type\": \"scattercarpet\"}], \"scattergeo\": [{\"marker\": {\"colorbar\": {\"outlinewidth\": 0, \"ticks\": \"\"}}, \"type\": \"scattergeo\"}], \"scattergl\": [{\"marker\": {\"colorbar\": {\"outlinewidth\": 0, \"ticks\": \"\"}}, \"type\": \"scattergl\"}], \"scattermapbox\": [{\"marker\": {\"colorbar\": {\"outlinewidth\": 0, \"ticks\": \"\"}}, \"type\": \"scattermapbox\"}], \"scatterpolar\": [{\"marker\": {\"colorbar\": {\"outlinewidth\": 0, \"ticks\": \"\"}}, \"type\": \"scatterpolar\"}], \"scatterpolargl\": [{\"marker\": {\"colorbar\": {\"outlinewidth\": 0, \"ticks\": \"\"}}, \"type\": \"scatterpolargl\"}], \"scatterternary\": [{\"marker\": {\"colorbar\": {\"outlinewidth\": 0, \"ticks\": \"\"}}, \"type\": \"scatterternary\"}], \"surface\": [{\"colorbar\": {\"outlinewidth\": 0, \"ticks\": \"\"}, \"colorscale\": [[0.0, \"#0d0887\"], [0.1111111111111111, \"#46039f\"], [0.2222222222222222, \"#7201a8\"], [0.3333333333333333, \"#9c179e\"], [0.4444444444444444, \"#bd3786\"], [0.5555555555555556, \"#d8576b\"], [0.6666666666666666, \"#ed7953\"], [0.7777777777777778, \"#fb9f3a\"], [0.8888888888888888, \"#fdca26\"], [1.0, \"#f0f921\"]], \"type\": \"surface\"}], \"table\": [{\"cells\": {\"fill\": {\"color\": \"#EBF0F8\"}, \"line\": {\"color\": \"white\"}}, \"header\": {\"fill\": {\"color\": \"#C8D4E3\"}, \"line\": {\"color\": \"white\"}}, \"type\": \"table\"}]}, \"layout\": {\"annotationdefaults\": {\"arrowcolor\": \"#2a3f5f\", \"arrowhead\": 0, \"arrowwidth\": 1}, \"coloraxis\": {\"colorbar\": {\"outlinewidth\": 0, \"ticks\": \"\"}}, \"colorscale\": {\"diverging\": [[0, \"#8e0152\"], [0.1, \"#c51b7d\"], [0.2, \"#de77ae\"], [0.3, \"#f1b6da\"], [0.4, \"#fde0ef\"], [0.5, \"#f7f7f7\"], [0.6, \"#e6f5d0\"], [0.7, \"#b8e186\"], [0.8, \"#7fbc41\"], [0.9, \"#4d9221\"], [1, \"#276419\"]], \"sequential\": [[0.0, \"#0d0887\"], [0.1111111111111111, \"#46039f\"], [0.2222222222222222, \"#7201a8\"], [0.3333333333333333, \"#9c179e\"], [0.4444444444444444, \"#bd3786\"], [0.5555555555555556, \"#d8576b\"], [0.6666666666666666, \"#ed7953\"], [0.7777777777777778, \"#fb9f3a\"], [0.8888888888888888, \"#fdca26\"], [1.0, \"#f0f921\"]], \"sequentialminus\": [[0.0, \"#0d0887\"], [0.1111111111111111, \"#46039f\"], [0.2222222222222222, \"#7201a8\"], [0.3333333333333333, \"#9c179e\"], [0.4444444444444444, \"#bd3786\"], [0.5555555555555556, \"#d8576b\"], [0.6666666666666666, \"#ed7953\"], [0.7777777777777778, \"#fb9f3a\"], [0.8888888888888888, \"#fdca26\"], [1.0, \"#f0f921\"]]}, \"colorway\": [\"#636efa\", \"#EF553B\", \"#00cc96\", \"#ab63fa\", \"#FFA15A\", \"#19d3f3\", \"#FF6692\", \"#B6E880\", \"#FF97FF\", \"#FECB52\"], \"font\": {\"color\": \"#2a3f5f\"}, \"geo\": {\"bgcolor\": \"white\", \"lakecolor\": \"white\", \"landcolor\": \"#E5ECF6\", \"showlakes\": true, \"showland\": true, \"subunitcolor\": \"white\"}, \"hoverlabel\": {\"align\": \"left\"}, \"hovermode\": \"closest\", \"mapbox\": {\"style\": \"light\"}, \"paper_bgcolor\": \"white\", \"plot_bgcolor\": \"#E5ECF6\", \"polar\": {\"angularaxis\": {\"gridcolor\": \"white\", \"linecolor\": \"white\", \"ticks\": \"\"}, \"bgcolor\": \"#E5ECF6\", \"radialaxis\": {\"gridcolor\": \"white\", \"linecolor\": \"white\", \"ticks\": \"\"}}, \"scene\": {\"xaxis\": {\"backgroundcolor\": \"#E5ECF6\", \"gridcolor\": \"white\", \"gridwidth\": 2, \"linecolor\": \"white\", \"showbackground\": true, \"ticks\": \"\", \"zerolinecolor\": \"white\"}, \"yaxis\": {\"backgroundcolor\": \"#E5ECF6\", \"gridcolor\": \"white\", \"gridwidth\": 2, \"linecolor\": \"white\", \"showbackground\": true, \"ticks\": \"\", \"zerolinecolor\": \"white\"}, \"zaxis\": {\"backgroundcolor\": \"#E5ECF6\", \"gridcolor\": \"white\", \"gridwidth\": 2, \"linecolor\": \"white\", \"showbackground\": true, \"ticks\": \"\", \"zerolinecolor\": \"white\"}}, \"shapedefaults\": {\"line\": {\"color\": \"#2a3f5f\"}}, \"ternary\": {\"aaxis\": {\"gridcolor\": \"white\", \"linecolor\": \"white\", \"ticks\": \"\"}, \"baxis\": {\"gridcolor\": \"white\", \"linecolor\": \"white\", \"ticks\": \"\"}, \"bgcolor\": \"#E5ECF6\", \"caxis\": {\"gridcolor\": \"white\", \"linecolor\": \"white\", \"ticks\": \"\"}}, \"title\": {\"x\": 0.05}, \"xaxis\": {\"automargin\": true, \"gridcolor\": \"white\", \"linecolor\": \"white\", \"ticks\": \"\", \"title\": {\"standoff\": 15}, \"zerolinecolor\": \"white\", \"zerolinewidth\": 2}, \"yaxis\": {\"automargin\": true, \"gridcolor\": \"white\", \"linecolor\": \"white\", \"ticks\": \"\", \"title\": {\"standoff\": 15}, \"zerolinecolor\": \"white\", \"zerolinewidth\": 2}}}, \"title\": {\"text\": \"Dijagram raspr\\u0161enja sa oznakama dr\\u017eava\"}, \"xaxis\": {\"title\": {\"text\": \"GDP per capita\"}}, \"yaxis\": {\"title\": {\"text\": \"Life expectancy\"}}},\n",
       "                        {\"responsive\": true}\n",
       "                    ).then(function(){\n",
       "                            \n",
       "var gd = document.getElementById('a635c750-6a72-44fc-82d1-3af8839bf4ad');\n",
       "var x = new MutationObserver(function (mutations, observer) {{\n",
       "        var display = window.getComputedStyle(gd).display;\n",
       "        if (!display || display === 'none') {{\n",
       "            console.log([gd, 'removed!']);\n",
       "            Plotly.purge(gd);\n",
       "            observer.disconnect();\n",
       "        }}\n",
       "}});\n",
       "\n",
       "// Listen for the removal of the full notebook cells\n",
       "var notebookContainer = gd.closest('#notebook-container');\n",
       "if (notebookContainer) {{\n",
       "    x.observe(notebookContainer, {childList: true});\n",
       "}}\n",
       "\n",
       "// Listen for the clearing of the current output cell\n",
       "var outputEl = gd.closest('.output');\n",
       "if (outputEl) {{\n",
       "    x.observe(outputEl, {childList: true});\n",
       "}}\n",
       "\n",
       "                        })\n",
       "                };\n",
       "                });\n",
       "            </script>\n",
       "        </div>"
      ]
     },
     "metadata": {},
     "output_type": "display_data"
    }
   ],
   "source": [
    "import plotly.graph_objects as go\n",
    "\n",
    "tocke = go.Scatter(x=data[\"GDP per capita\"], y=data['Life expectancy'], mode='markers', text=data.index)\n",
    "x = np.linspace(30, data[\"GDP per capita\"].max())\n",
    "y = res.params[0].round(4) + res.params[1].round(4)*np.log(x)\n",
    "procjena = go.Scatter(x=x, y=y, mode='lines')\n",
    "fig = go.Figure(data=[tocke, procjena])\n",
    "fig.update_layout(\n",
    "    title=\"Dijagram raspršenja sa oznakama država\",\n",
    "    yaxis_title=\"Life expectancy\",\n",
    "    xaxis_title=\"GDP per capita\")"
   ]
  },
  {
   "cell_type": "markdown",
   "metadata": {},
   "source": [
    "Vidim da ovaj model nije dobar za veće vrijednosti BDPa per capita jer očekivana duljina života ima neki limes, pa to logaritamska funkcija ne opisuje najbolje."
   ]
  },
  {
   "cell_type": "markdown",
   "metadata": {},
   "source": [
    "### Multivarijatni linearni regresijski model"
   ]
  },
  {
   "cell_type": "markdown",
   "metadata": {},
   "source": [
    "Promatram odnos postotka potrošnje BDPa na obrazovanje u odnosu na postotak gradskog stanovništva, očekivanja života i logaritmiranog BDPa per capita. i radim multivarijatni linearni regresijski model."
   ]
  },
  {
   "cell_type": "code",
   "execution_count": 210,
   "metadata": {},
   "outputs": [],
   "source": [
    "data['logGDP'] = np.log(data['GDP per capita'])"
   ]
  },
  {
   "cell_type": "code",
   "execution_count": 211,
   "metadata": {},
   "outputs": [
    {
     "data": {
      "text/html": [
       "<table class=\"simpletable\">\n",
       "<caption>OLS Regression Results</caption>\n",
       "<tr>\n",
       "  <th>Dep. Variable:</th>    <td>Exp on edu (% of GDP)</td> <th>  R-squared:         </th> <td>   0.154</td>\n",
       "</tr>\n",
       "<tr>\n",
       "  <th>Model:</th>                     <td>OLS</td>          <th>  Adj. R-squared:    </th> <td>   0.130</td>\n",
       "</tr>\n",
       "<tr>\n",
       "  <th>Method:</th>               <td>Least Squares</td>     <th>  F-statistic:       </th> <td>   6.475</td>\n",
       "</tr>\n",
       "<tr>\n",
       "  <th>Date:</th>               <td>Sun, 19 Apr 2020</td>    <th>  Prob (F-statistic):</th> <td>0.000455</td>\n",
       "</tr>\n",
       "<tr>\n",
       "  <th>Time:</th>                   <td>18:29:45</td>        <th>  Log-Likelihood:    </th> <td> -191.46</td>\n",
       "</tr>\n",
       "<tr>\n",
       "  <th>No. Observations:</th>        <td>   111</td>         <th>  AIC:               </th> <td>   390.9</td>\n",
       "</tr>\n",
       "<tr>\n",
       "  <th>Df Residuals:</th>            <td>   107</td>         <th>  BIC:               </th> <td>   401.8</td>\n",
       "</tr>\n",
       "<tr>\n",
       "  <th>Df Model:</th>                <td>     3</td>         <th>                     </th>     <td> </td>   \n",
       "</tr>\n",
       "<tr>\n",
       "  <th>Covariance Type:</th>        <td>nonrobust</td>       <th>                     </th>     <td> </td>   \n",
       "</tr>\n",
       "</table>\n",
       "<table class=\"simpletable\">\n",
       "<tr>\n",
       "         <td></td>            <th>coef</th>     <th>std err</th>      <th>t</th>      <th>P>|t|</th>  <th>[0.025</th>    <th>0.975]</th>  \n",
       "</tr>\n",
       "<tr>\n",
       "  <th>const</th>           <td>    2.3458</td> <td>    1.141</td> <td>    2.055</td> <td> 0.042</td> <td>    0.083</td> <td>    4.609</td>\n",
       "</tr>\n",
       "<tr>\n",
       "  <th>Urban (%)</th>       <td>    0.0034</td> <td>    0.009</td> <td>    0.357</td> <td> 0.722</td> <td>   -0.015</td> <td>    0.022</td>\n",
       "</tr>\n",
       "<tr>\n",
       "  <th>Life expectancy</th> <td>   -0.0293</td> <td>    0.028</td> <td>   -1.060</td> <td> 0.292</td> <td>   -0.084</td> <td>    0.025</td>\n",
       "</tr>\n",
       "<tr>\n",
       "  <th>logGDP</th>          <td>    0.4690</td> <td>    0.194</td> <td>    2.414</td> <td> 0.017</td> <td>    0.084</td> <td>    0.854</td>\n",
       "</tr>\n",
       "</table>\n",
       "<table class=\"simpletable\">\n",
       "<tr>\n",
       "  <th>Omnibus:</th>       <td> 1.996</td> <th>  Durbin-Watson:     </th> <td>   2.158</td>\n",
       "</tr>\n",
       "<tr>\n",
       "  <th>Prob(Omnibus):</th> <td> 0.369</td> <th>  Jarque-Bera (JB):  </th> <td>   2.019</td>\n",
       "</tr>\n",
       "<tr>\n",
       "  <th>Skew:</th>          <td> 0.310</td> <th>  Prob(JB):          </th> <td>   0.364</td>\n",
       "</tr>\n",
       "<tr>\n",
       "  <th>Kurtosis:</th>      <td> 2.773</td> <th>  Cond. No.          </th> <td>    815.</td>\n",
       "</tr>\n",
       "</table><br/><br/>Warnings:<br/>[1] Standard Errors assume that the covariance matrix of the errors is correctly specified."
      ],
      "text/plain": [
       "<class 'statsmodels.iolib.summary.Summary'>\n",
       "\"\"\"\n",
       "                              OLS Regression Results                             \n",
       "=================================================================================\n",
       "Dep. Variable:     Exp on edu (% of GDP)   R-squared:                       0.154\n",
       "Model:                               OLS   Adj. R-squared:                  0.130\n",
       "Method:                    Least Squares   F-statistic:                     6.475\n",
       "Date:                   Sun, 19 Apr 2020   Prob (F-statistic):           0.000455\n",
       "Time:                           18:29:45   Log-Likelihood:                -191.46\n",
       "No. Observations:                    111   AIC:                             390.9\n",
       "Df Residuals:                        107   BIC:                             401.8\n",
       "Df Model:                              3                                         \n",
       "Covariance Type:               nonrobust                                         \n",
       "===================================================================================\n",
       "                      coef    std err          t      P>|t|      [0.025      0.975]\n",
       "-----------------------------------------------------------------------------------\n",
       "const               2.3458      1.141      2.055      0.042       0.083       4.609\n",
       "Urban (%)           0.0034      0.009      0.357      0.722      -0.015       0.022\n",
       "Life expectancy    -0.0293      0.028     -1.060      0.292      -0.084       0.025\n",
       "logGDP              0.4690      0.194      2.414      0.017       0.084       0.854\n",
       "==============================================================================\n",
       "Omnibus:                        1.996   Durbin-Watson:                   2.158\n",
       "Prob(Omnibus):                  0.369   Jarque-Bera (JB):                2.019\n",
       "Skew:                           0.310   Prob(JB):                        0.364\n",
       "Kurtosis:                       2.773   Cond. No.                         815.\n",
       "==============================================================================\n",
       "\n",
       "Warnings:\n",
       "[1] Standard Errors assume that the covariance matrix of the errors is correctly specified.\n",
       "\"\"\""
      ]
     },
     "execution_count": 211,
     "metadata": {},
     "output_type": "execute_result"
    }
   ],
   "source": [
    "X = data[['Urban (%)', 'Life expectancy', 'logGDP']]\n",
    "Y = data['Exp on edu (% of GDP)']\n",
    "X=sm.add_constant(X)        #to add constant value in the model\n",
    "model= sm.OLS(Y,X).fit()         #fitting the model\n",
    "predictions= model.summary()      #summary of the model\n",
    "predictions"
   ]
  },
  {
   "cell_type": "markdown",
   "metadata": {},
   "source": [
    "### ANOVA"
   ]
  },
  {
   "cell_type": "markdown",
   "metadata": {},
   "source": [
    "Želim promatrati parametre u odnosu na bogatstvo države. Zato ću podijeliti države na četiri grupe po visini BDPa per capita tako da ih je u svakoj grupi jednako mnogo. Za to su mi potrebni kvantili podataka 'GDP per capita'."
   ]
  },
  {
   "cell_type": "code",
   "execution_count": 212,
   "metadata": {},
   "outputs": [
    {
     "data": {
      "text/plain": [
       "count       111.000000\n",
       "mean      15530.063063\n",
       "std       20736.855108\n",
       "min         268.750000\n",
       "25%        1401.750000\n",
       "50%        5694.500000\n",
       "75%       19322.125000\n",
       "max      103730.500000\n",
       "Name: GDP per capita, dtype: float64"
      ]
     },
     "execution_count": 212,
     "metadata": {},
     "output_type": "execute_result"
    }
   ],
   "source": [
    "deskriptiva = data['GDP per capita'].describe()\n",
    "deskriptiva"
   ]
  },
  {
   "cell_type": "code",
   "execution_count": 213,
   "metadata": {},
   "outputs": [],
   "source": [
    "def f(data):\n",
    "    if data['GDP per capita'] < deskriptiva['25%']:\n",
    "        val = 1\n",
    "    elif deskriptiva['25%'] <= data['GDP per capita'] < deskriptiva['50%']:\n",
    "        val = 2\n",
    "    elif deskriptiva['50%'] <= data['GDP per capita'] < deskriptiva['75%']:\n",
    "        val = 3\n",
    "    else: val = 4\n",
    "    return val\n",
    "\n",
    "data['Grupe_BDP'] = data.apply(f, axis=1)"
   ]
  },
  {
   "cell_type": "code",
   "execution_count": 214,
   "metadata": {},
   "outputs": [],
   "source": [
    "#data.to_excel('novi2.xlsx')"
   ]
  },
  {
   "cell_type": "code",
   "execution_count": 216,
   "metadata": {},
   "outputs": [],
   "source": [
    "data.rename(columns={'Exp on edu (% of GDP)': 'ExpGDP'}, inplace=True)"
   ]
  },
  {
   "cell_type": "code",
   "execution_count": 218,
   "metadata": {},
   "outputs": [
    {
     "data": {
      "text/html": [
       "<table class=\"simpletable\">\n",
       "<caption>OLS Regression Results</caption>\n",
       "<tr>\n",
       "  <th>Dep. Variable:</th>         <td>ExpGDP</td>      <th>  R-squared:         </th> <td>   0.163</td>\n",
       "</tr>\n",
       "<tr>\n",
       "  <th>Model:</th>                   <td>OLS</td>       <th>  Adj. R-squared:    </th> <td>   0.140</td>\n",
       "</tr>\n",
       "<tr>\n",
       "  <th>Method:</th>             <td>Least Squares</td>  <th>  F-statistic:       </th> <td>   6.949</td>\n",
       "</tr>\n",
       "<tr>\n",
       "  <th>Date:</th>             <td>Sun, 19 Apr 2020</td> <th>  Prob (F-statistic):</th> <td>0.000257</td>\n",
       "</tr>\n",
       "<tr>\n",
       "  <th>Time:</th>                 <td>18:30:06</td>     <th>  Log-Likelihood:    </th> <td> -190.83</td>\n",
       "</tr>\n",
       "<tr>\n",
       "  <th>No. Observations:</th>      <td>   111</td>      <th>  AIC:               </th> <td>   389.7</td>\n",
       "</tr>\n",
       "<tr>\n",
       "  <th>Df Residuals:</th>          <td>   107</td>      <th>  BIC:               </th> <td>   400.5</td>\n",
       "</tr>\n",
       "<tr>\n",
       "  <th>Df Model:</th>              <td>     3</td>      <th>                     </th>     <td> </td>   \n",
       "</tr>\n",
       "<tr>\n",
       "  <th>Covariance Type:</th>      <td>nonrobust</td>    <th>                     </th>     <td> </td>   \n",
       "</tr>\n",
       "</table>\n",
       "<table class=\"simpletable\">\n",
       "<tr>\n",
       "          <td></td>             <th>coef</th>     <th>std err</th>      <th>t</th>      <th>P>|t|</th>  <th>[0.025</th>    <th>0.975]</th>  \n",
       "</tr>\n",
       "<tr>\n",
       "  <th>Intercept</th>         <td>    3.6934</td> <td>    0.260</td> <td>   14.211</td> <td> 0.000</td> <td>    3.178</td> <td>    4.209</td>\n",
       "</tr>\n",
       "<tr>\n",
       "  <th>C(Grupe_BDP)[T.2]</th> <td>    0.8256</td> <td>    0.371</td> <td>    2.226</td> <td> 0.028</td> <td>    0.090</td> <td>    1.561</td>\n",
       "</tr>\n",
       "<tr>\n",
       "  <th>C(Grupe_BDP)[T.3]</th> <td>    0.8582</td> <td>    0.368</td> <td>    2.335</td> <td> 0.021</td> <td>    0.130</td> <td>    1.587</td>\n",
       "</tr>\n",
       "<tr>\n",
       "  <th>C(Grupe_BDP)[T.4]</th> <td>    1.6779</td> <td>    0.368</td> <td>    4.565</td> <td> 0.000</td> <td>    0.949</td> <td>    2.407</td>\n",
       "</tr>\n",
       "</table>\n",
       "<table class=\"simpletable\">\n",
       "<tr>\n",
       "  <th>Omnibus:</th>       <td> 1.735</td> <th>  Durbin-Watson:     </th> <td>   2.191</td>\n",
       "</tr>\n",
       "<tr>\n",
       "  <th>Prob(Omnibus):</th> <td> 0.420</td> <th>  Jarque-Bera (JB):  </th> <td>   1.773</td>\n",
       "</tr>\n",
       "<tr>\n",
       "  <th>Skew:</th>          <td> 0.255</td> <th>  Prob(JB):          </th> <td>   0.412</td>\n",
       "</tr>\n",
       "<tr>\n",
       "  <th>Kurtosis:</th>      <td> 2.648</td> <th>  Cond. No.          </th> <td>    4.77</td>\n",
       "</tr>\n",
       "</table><br/><br/>Warnings:<br/>[1] Standard Errors assume that the covariance matrix of the errors is correctly specified."
      ],
      "text/plain": [
       "<class 'statsmodels.iolib.summary.Summary'>\n",
       "\"\"\"\n",
       "                            OLS Regression Results                            \n",
       "==============================================================================\n",
       "Dep. Variable:                 ExpGDP   R-squared:                       0.163\n",
       "Model:                            OLS   Adj. R-squared:                  0.140\n",
       "Method:                 Least Squares   F-statistic:                     6.949\n",
       "Date:                Sun, 19 Apr 2020   Prob (F-statistic):           0.000257\n",
       "Time:                        18:30:06   Log-Likelihood:                -190.83\n",
       "No. Observations:                 111   AIC:                             389.7\n",
       "Df Residuals:                     107   BIC:                             400.5\n",
       "Df Model:                           3                                         \n",
       "Covariance Type:            nonrobust                                         \n",
       "=====================================================================================\n",
       "                        coef    std err          t      P>|t|      [0.025      0.975]\n",
       "-------------------------------------------------------------------------------------\n",
       "Intercept             3.6934      0.260     14.211      0.000       3.178       4.209\n",
       "C(Grupe_BDP)[T.2]     0.8256      0.371      2.226      0.028       0.090       1.561\n",
       "C(Grupe_BDP)[T.3]     0.8582      0.368      2.335      0.021       0.130       1.587\n",
       "C(Grupe_BDP)[T.4]     1.6779      0.368      4.565      0.000       0.949       2.407\n",
       "==============================================================================\n",
       "Omnibus:                        1.735   Durbin-Watson:                   2.191\n",
       "Prob(Omnibus):                  0.420   Jarque-Bera (JB):                1.773\n",
       "Skew:                           0.255   Prob(JB):                        0.412\n",
       "Kurtosis:                       2.648   Cond. No.                         4.77\n",
       "==============================================================================\n",
       "\n",
       "Warnings:\n",
       "[1] Standard Errors assume that the covariance matrix of the errors is correctly specified.\n",
       "\"\"\""
      ]
     },
     "execution_count": 218,
     "metadata": {},
     "output_type": "execute_result"
    }
   ],
   "source": [
    "from statsmodels.formula.api import ols\n",
    "results = ols('ExpGDP ~ C(Grupe_BDP)', data=data).fit()\n",
    "results.summary()"
   ]
  },
  {
   "cell_type": "code",
   "execution_count": null,
   "metadata": {},
   "outputs": [],
   "source": []
  }
 ],
 "metadata": {
  "kernelspec": {
   "display_name": "Python 3",
   "language": "python",
   "name": "python3"
  },
  "language_info": {
   "codemirror_mode": {
    "name": "ipython",
    "version": 3
   },
   "file_extension": ".py",
   "mimetype": "text/x-python",
   "name": "python",
   "nbconvert_exporter": "python",
   "pygments_lexer": "ipython3",
   "version": "3.7.7"
  }
 },
 "nbformat": 4,
 "nbformat_minor": 4
}
